{
 "cells": [
  {
   "cell_type": "code",
   "execution_count": 1,
   "metadata": {},
   "outputs": [
    {
     "name": "stdin",
     "output_type": "stream",
     "text": [
      " 1\n",
      " 1\n",
      " 1\n",
      " 2\n"
     ]
    },
    {
     "name": "stdout",
     "output_type": "stream",
     "text": [
      "[[0, 0, 0], [0, 0, 1], [0, 1, 0], [1, 0, 0], [1, 1, 1]]\n"
     ]
    }
   ],
   "source": [
    "#List Comprehension\n",
    "if __name__ == '__main__':\n",
    "    x = int(input())\n",
    "    y = int(input())\n",
    "    z = int(input())\n",
    "    n = int(input())\n",
    "    per= [[i,j,k] for i in range(0, x+1) for j in range(0, y+1) for k in range(0, z+1) if (i+j+k) != n]\n",
    "    \n",
    "    print(per)"
   ]
  },
  {
   "cell_type": "code",
   "execution_count": 2,
   "metadata": {},
   "outputs": [
    {
     "name": "stdin",
     "output_type": "stream",
     "text": [
      " 5\n",
      " 2 3 6 6 5\n"
     ]
    },
    {
     "name": "stdout",
     "output_type": "stream",
     "text": [
      "5\n"
     ]
    }
   ],
   "source": [
    "#Find the Runner_up Score\n",
    "if __name__ == '__main__':\n",
    "    n = int(input())\n",
    "    arr = set(map(int, input().split()))\n",
    "    max_arr = max(arr)\n",
    "    arr.remove(max_arr)\n",
    "    print(max(arr))"
   ]
  },
  {
   "cell_type": "code",
   "execution_count": 3,
   "metadata": {},
   "outputs": [
    {
     "name": "stdin",
     "output_type": "stream",
     "text": [
      " 5\n",
      " Harry\n",
      " 37.21\n",
      " Berry\n",
      " 37.21\n",
      " Tina\n",
      " 37.2\n",
      " Akriti\n",
      " 41\n",
      " Harsh\n",
      " 39\n"
     ]
    },
    {
     "name": "stdout",
     "output_type": "stream",
     "text": [
      "Berry\n",
      "Harry\n"
     ]
    }
   ],
   "source": [
    "\n",
    "if __name__ == '__main__':\n",
    "    records= []\n",
    "    for _ in range(int(input())):\n",
    "        name = input()\n",
    "        score = float(input())\n",
    "        records.append([score, name])\n",
    "\n",
    "    records.sort()\n",
    "    b = [i for i in records if i[0] != records[0][0]]\n",
    "    c = [j for j in b if j[0] == b[0][0]]\n",
    "    \n",
    "    c.sort(key=lambda x: x[1])\n",
    "    for i in range(len(c)):\n",
    "        print(c[i][1])\n"
   ]
  },
  {
   "cell_type": "code",
   "execution_count": 4,
   "metadata": {},
   "outputs": [
    {
     "name": "stdin",
     "output_type": "stream",
     "text": [
      " 3\n",
      " Krishna 67 68 69\n",
      " Arjun 70 98 63\n",
      " Malika 52 56 60\n",
      " Malika\n"
     ]
    },
    {
     "name": "stdout",
     "output_type": "stream",
     "text": [
      "56.00\n"
     ]
    }
   ],
   "source": [
    "#Finding the percentage\n",
    "if __name__ == '__main__':\n",
    "    n = int(input())\n",
    "    student_marks = {}\n",
    "    for i in range(n):\n",
    "        name, *line = input().split()\n",
    "        scores = list(map(float, line))\n",
    "        student_marks[name] = float((sum(scores)) / len(scores))\n",
    "    query_name = input()\n",
    "    average = student_marks.get(query_name)\n",
    "    print(\"%.2f\" % average)"
   ]
  },
  {
   "cell_type": "code",
   "execution_count": 5,
   "metadata": {},
   "outputs": [
    {
     "name": "stdin",
     "output_type": "stream",
     "text": [
      " 12\n",
      " insert 0 5\n",
      " insert 1 10\n",
      " insert 0 6\n",
      " print\n"
     ]
    },
    {
     "name": "stdout",
     "output_type": "stream",
     "text": [
      "[6, 5, 10]\n"
     ]
    },
    {
     "name": "stdin",
     "output_type": "stream",
     "text": [
      " remove 6\n",
      " append 9\n",
      " append 1\n",
      " sort\n",
      " print\n"
     ]
    },
    {
     "name": "stdout",
     "output_type": "stream",
     "text": [
      "[1, 5, 9, 10]\n"
     ]
    },
    {
     "name": "stdin",
     "output_type": "stream",
     "text": [
      " pop\n",
      " reverse\n",
      " print\n"
     ]
    },
    {
     "name": "stdout",
     "output_type": "stream",
     "text": [
      "[9, 5, 1]\n"
     ]
    }
   ],
   "source": [
    "#lists\n",
    "if __name__ == '__main__':\n",
    "    N = int(input())\n",
    "    lis = []\n",
    "    for i in range(0, N):\n",
    "        oper, *line = input().split()\n",
    "        if oper.lower() == \"insert\":\n",
    "            lis.insert(int(line[0]), int(line[1]))\n",
    "        elif oper.lower() == \"print\":\n",
    "            print(lis)\n",
    "        elif oper.lower() == \"remove\":\n",
    "            lis.remove(float(line[0]))\n",
    "        elif oper.lower() == \"append\":\n",
    "            lis.append(int(line[0]))\n",
    "        elif oper.lower() == \"sort\":\n",
    "            lis.sort()\n",
    "        elif oper.lower() == \"pop\":\n",
    "            lis.pop()\n",
    "        elif oper.lower() == \"reverse\":\n",
    "            lis.reverse()"
   ]
  },
  {
   "cell_type": "code",
   "execution_count": 6,
   "metadata": {},
   "outputs": [
    {
     "name": "stdin",
     "output_type": "stream",
     "text": [
      " 2\n",
      " 1 2\n"
     ]
    },
    {
     "name": "stdout",
     "output_type": "stream",
     "text": [
      "3713081631934410656\n"
     ]
    }
   ],
   "source": [
    "#Tuples\n",
    "if __name__ == '__main__':\n",
    "    n = int(input())\n",
    "        \n",
    "    integer_list = tuple(map(int, input().split()))\n",
    "    \n",
    "    print(hash(integer_list))"
   ]
  },
  {
   "cell_type": "code",
   "execution_count": 7,
   "metadata": {},
   "outputs": [
    {
     "name": "stdin",
     "output_type": "stream",
     "text": [
      " 10\n",
      " 161 182 161 154 171 176 170 167 170 174\n"
     ]
    },
    {
     "name": "stdout",
     "output_type": "stream",
     "text": [
      "169.375\n"
     ]
    }
   ],
   "source": [
    "#Introduction to sets\n",
    "def average(array):\n",
    "    total = sum(set(array))\n",
    "    length = len(set(array))\n",
    "    avg = float(total / length) \n",
    "    return \"%.3f\" % avg\n",
    "if __name__ == '__main__':\n",
    "    n = int(input())\n",
    "    arr = list(map(int, input().split()))\n",
    "    result = average(arr)\n",
    "    print(result)"
   ]
  },
  {
   "cell_type": "code",
   "execution_count": 8,
   "metadata": {},
   "outputs": [
    {
     "name": "stdin",
     "output_type": "stream",
     "text": [
      " 3 2\n",
      " 1 5 3\n",
      " 3 1 \n",
      " 5 7\n"
     ]
    },
    {
     "name": "stdout",
     "output_type": "stream",
     "text": [
      "1\n"
     ]
    }
   ],
   "source": [
    "#NO Idea!\n",
    "n, m = map(int, (input().split()))\n",
    "integers = list(map(int, (input().split())))\n",
    "A = set(map(int, input().split()))\n",
    "B = set(map(int, input().split()))\n",
    "happiness = 0\n",
    "print((len([m for m in integers for n in A if m == n]))-(len([i for i in integers for j in B if i == j])))\n"
   ]
  },
  {
   "cell_type": "code",
   "execution_count": 9,
   "metadata": {},
   "outputs": [
    {
     "name": "stdin",
     "output_type": "stream",
     "text": [
      " 4\n",
      " 2 4 5 9\n",
      " 4\n",
      " 2 4 11 12\n"
     ]
    },
    {
     "name": "stdout",
     "output_type": "stream",
     "text": [
      "5\n",
      "9\n",
      "11\n",
      "12\n"
     ]
    }
   ],
   "source": [
    "#Symmetric difference\n",
    "m = int(input())\n",
    "m_no = set(map(int, input().split()))\n",
    "n  = int(input())\n",
    "n_no = set(map(int, input().split()))\n",
    "diff = m_no.symmetric_difference(n_no)\n",
    "asce_order = sorted(diff)\n",
    "for i in asce_order:\n",
    "    print(i)\n"
   ]
  },
  {
   "cell_type": "code",
   "execution_count": 10,
   "metadata": {},
   "outputs": [
    {
     "name": "stdin",
     "output_type": "stream",
     "text": [
      " 7\n",
      " UK\n",
      " China\n",
      " USA\n",
      " France\n",
      " New Zealand\n",
      " UK\n",
      " France\n"
     ]
    },
    {
     "name": "stdout",
     "output_type": "stream",
     "text": [
      "5\n"
     ]
    }
   ],
   "source": [
    "#Set.add()\n",
    "n  = int(input())\n",
    "stamps = set()\n",
    "for i in range(n):\n",
    "    stamps.add(input())\n",
    "\n",
    "print(len(stamps))"
   ]
  },
  {
   "cell_type": "code",
   "execution_count": 11,
   "metadata": {},
   "outputs": [
    {
     "name": "stdin",
     "output_type": "stream",
     "text": [
      " 9\n",
      " 1 2 3 4 5 6 7 8 9\n",
      " 10\n",
      " pop\n",
      " remove 9\n",
      " discard 9\n",
      " discard 8\n",
      " remove 7\n",
      " pop\n",
      " discard 6\n",
      " remove 5\n",
      " pop\n",
      " discard 6\n"
     ]
    },
    {
     "name": "stdout",
     "output_type": "stream",
     "text": [
      "4\n"
     ]
    }
   ],
   "source": [
    "#Set.discard(), .pop(), .remove() \n",
    "n = int(input())\n",
    "s = set(map(int, input().split()))  \n",
    "N = int(input())\n",
    "for i in range(0, N):\n",
    "    oper, *line = input().split()\n",
    "    if oper.lower() == \"remove\":\n",
    "        s.remove(int(line[0]))\n",
    "    elif oper.lower() == \"pop\":\n",
    "        s.pop()\n",
    "    elif oper.lower() == \"discard\":\n",
    "        s.discard(int(line[0]))\n",
    "        continue\n",
    "print(sum(s))"
   ]
  },
  {
   "cell_type": "code",
   "execution_count": 12,
   "metadata": {},
   "outputs": [
    {
     "name": "stdin",
     "output_type": "stream",
     "text": [
      " 9\n",
      " 1 2 3 4 5 6 7 8 9\n",
      " 9\n",
      " 10 1 2 3 11 21 55 6 8\n"
     ]
    },
    {
     "name": "stdout",
     "output_type": "stream",
     "text": [
      "13\n"
     ]
    }
   ],
   "source": [
    "#Set union() operation\n",
    "n = int(input())\n",
    "english = set(map(int, input().split()))\n",
    "b = int(input())\n",
    "french = set(map(int, input().split()))\n",
    "print(len(english.union(french)))"
   ]
  },
  {
   "cell_type": "code",
   "execution_count": 13,
   "metadata": {},
   "outputs": [
    {
     "name": "stdin",
     "output_type": "stream",
     "text": [
      " 9\n",
      " 1 2 3 4 5 6 7 8 9\n",
      " 9\n",
      " 10 1 2 3 11 21 55 6 8\n"
     ]
    },
    {
     "name": "stdout",
     "output_type": "stream",
     "text": [
      "5\n"
     ]
    }
   ],
   "source": [
    "#S.intersection() operation\n",
    "n = int(input())\n",
    "english = set(map(int, input().split()))\n",
    "b = int(input())\n",
    "french = set(map(int,input().split()))\n",
    "\n",
    "print(len(english.intersection(french)))"
   ]
  },
  {
   "cell_type": "code",
   "execution_count": 2,
   "metadata": {},
   "outputs": [
    {
     "name": "stdin",
     "output_type": "stream",
     "text": [
      " 9\n",
      " 1 2 3 4 5 6 7 8 9\n",
      " 9\n",
      " 10 1 2 3 11 21 55 6 8\n"
     ]
    },
    {
     "name": "stdout",
     "output_type": "stream",
     "text": [
      "4\n"
     ]
    }
   ],
   "source": [
    "#S.difference() operation\n",
    "e = int(input())\n",
    "english = set(map(int, input(). split()))\n",
    "f = int(input())\n",
    "french = set(map(int, input().split())) \n",
    "\n",
    "print(len(english.difference(french)))\n"
   ]
  },
  {
   "cell_type": "code",
   "execution_count": 1,
   "metadata": {},
   "outputs": [
    {
     "name": "stdin",
     "output_type": "stream",
     "text": [
      " 9\n",
      " 1 2 3 4 5 6 7 8 9\n",
      " 9\n",
      " 10 1 2 3 11 21 55 6 8\n"
     ]
    },
    {
     "name": "stdout",
     "output_type": "stream",
     "text": [
      "8\n"
     ]
    }
   ],
   "source": [
    "#Set.symetric_difference() operator\n",
    "n = int(input())\n",
    "english = set(map(int, input().split()))\n",
    "m = int(input())\n",
    "french = set(map(int, input().split()))\n",
    "\n",
    "selected = english.symmetric_difference(french)\n",
    "print(len(selected))"
   ]
  },
  {
   "cell_type": "code",
   "execution_count": 2,
   "metadata": {},
   "outputs": [
    {
     "name": "stdin",
     "output_type": "stream",
     "text": [
      " 16\n",
      " 1 2 3 4 5 6 7 8 9 10 11 12 13 14 24 52\n",
      " 4\n",
      " intersection_update 10\n",
      " 2 3 5 6 8 9 1 4 7 11\n",
      " update 2\n",
      " 55 66\n",
      " symmetric_disfference_update 5\n",
      " 22 7 35 62 58\n",
      " difference_update 7\n",
      " 11 22 35 55 58 62 66\n"
     ]
    },
    {
     "name": "stdout",
     "output_type": "stream",
     "text": [
      "45\n"
     ]
    }
   ],
   "source": [
    "#set Mutations\n",
    "n = int(input())\n",
    "A = set(map(int, input().split()))\n",
    "N = int(input())\n",
    "for i in range(N):\n",
    "    oper, *line = input().split()\n",
    "    B = set(map(int, input().split())) \n",
    "    if oper.lower() == \"intersection_update\":\n",
    "        A.intersection_update(B)\n",
    "    elif oper.lower() == \"update\":\n",
    "        A.update(B)\n",
    "    elif oper.lower() == \"symmetric_difference_update\":\n",
    "        A.symmetric_difference_update(B)\n",
    "    elif oper.lower() == \"difference_update\":\n",
    "        A.difference_update(B)\n",
    "        \n",
    "print(sum(A))"
   ]
  },
  {
   "cell_type": "code",
   "execution_count": 4,
   "metadata": {},
   "outputs": [
    {
     "name": "stdin",
     "output_type": "stream",
     "text": [
      " 5\n",
      " 1 2 3 6 5 4 4 2 5 3 6 1 6 5 3 2 4 1 2 5 1 4 3 6 8 4 3 1 5 6 2\n"
     ]
    },
    {
     "name": "stdout",
     "output_type": "stream",
     "text": [
      "8\n"
     ]
    }
   ],
   "source": [
    "#The Captains Room\n",
    "K = int(input())\n",
    "rooms = list(map(int, input().split()))\n",
    "rooms_m = rooms\n",
    "num = set()\n",
    "for ele in rooms:\n",
    "    if ele not in num:\n",
    "        num.add(ele)\n",
    "        if ele in rooms_m:\n",
    "            rooms_m.remove(ele)\n",
    "print(num.difference(rooms_m).pop())"
   ]
  },
  {
   "cell_type": "code",
   "execution_count": null,
   "metadata": {},
   "outputs": [
    {
     "name": "stdin",
     "output_type": "stream",
     "text": [
      " 3\n",
      " 5\n",
      " 1 2 3 5 6\n",
      " 9\n"
     ]
    }
   ],
   "source": [
    "T = int(input())\n",
    "for i in range(T):\n",
    "    n = int(input())\n",
    "    A = set(map(int, (input().split())))\n",
    "    m = int(input())\n",
    "    B = set(map(int, (input().split())))    \n",
    "    print(A.issubset(B))\n",
    "    "
   ]
  },
  {
   "cell_type": "code",
   "execution_count": null,
   "metadata": {},
   "outputs": [],
   "source": [
    "3\n",
    "5\n",
    "1 2 3 5 6\n",
    "9\n",
    "9 8 5 6 3 2 1 4 7\n",
    "1\n",
    "2\n",
    "5\n",
    "3 6 5 4 1\n",
    "7\n",
    "1 2 3 5 6 8 9\n",
    "3\n",
    "9 8 2"
   ]
  },
  {
   "cell_type": "code",
   "execution_count": 2,
   "metadata": {},
   "outputs": [
    {
     "name": "stdin",
     "output_type": "stream",
     "text": [
      " 1 2 3 4 5 6 7 8 9 10 11 12 23 45 84 78\n",
      " 2\n",
      " 1 2 3 4 5 \n",
      " 100 11 12\n"
     ]
    },
    {
     "name": "stdout",
     "output_type": "stream",
     "text": [
      "False\n"
     ]
    }
   ],
   "source": [
    "#Check Super Set\n",
    "A = set(map(int, input().split()))\n",
    "n = int(input())\n",
    "\n",
    "B = set(map(int, input().split()))\n",
    "C = set(map(int, input().split()))\n",
    "print(A.issuperset(B) and A.issuperset(C))"
   ]
  }
 ],
 "metadata": {
  "kernelspec": {
   "display_name": "Python 3",
   "language": "python",
   "name": "python3"
  },
  "language_info": {
   "codemirror_mode": {
    "name": "ipython",
    "version": 3
   },
   "file_extension": ".py",
   "mimetype": "text/x-python",
   "name": "python",
   "nbconvert_exporter": "python",
   "pygments_lexer": "ipython3",
   "version": "3.7.3"
  }
 },
 "nbformat": 4,
 "nbformat_minor": 4
}
