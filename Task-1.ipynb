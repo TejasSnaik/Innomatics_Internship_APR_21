{
 "cells": [
  {
   "cell_type": "code",
   "execution_count": 2,
   "metadata": {},
   "outputs": [
    {
     "name": "stdout",
     "output_type": "stream",
     "text": [
      "Hello, World!\n"
     ]
    }
   ],
   "source": [
    "#Say \"Hello World!\" with python\"\n",
    "print(\"Hello, World!\")"
   ]
  },
  {
   "cell_type": "code",
   "execution_count": 3,
   "metadata": {},
   "outputs": [
    {
     "name": "stdin",
     "output_type": "stream",
     "text": [
      " 3\n"
     ]
    },
    {
     "name": "stdout",
     "output_type": "stream",
     "text": [
      "Weird\n"
     ]
    }
   ],
   "source": [
    "#python if else\n",
    "def Weird():\n",
    "    while n != 0:\n",
    "        if n % 2 != 0:\n",
    "            print(\"Weird\")\n",
    "            break\n",
    "\n",
    "        elif (n % 2 == 0) and n in range(2, 6):\n",
    "            print(\"Not Weird\")\n",
    "            break\n",
    "        \n",
    "        elif (n % 2 == 0) and n in range(6, 21):\n",
    "            print(\"Weird\")\n",
    "            break\n",
    "        \n",
    "        elif (n % 2 == 0) and (n > 20):\n",
    "            print(\"Not Weird\")\n",
    "            break\n",
    " \n",
    "n = int(input(\"\"))\n",
    "Weird()"
   ]
  },
  {
   "cell_type": "code",
   "execution_count": 6,
   "metadata": {},
   "outputs": [
    {
     "name": "stdin",
     "output_type": "stream",
     "text": [
      " 3\n",
      " 5\n"
     ]
    },
    {
     "name": "stdout",
     "output_type": "stream",
     "text": [
      "8\n",
      "-2\n",
      "15\n"
     ]
    }
   ],
   "source": [
    "#Arithmetic Operator\n",
    "if __name__ == '__main__':\n",
    "    a = int(input(\"\"))\n",
    "    b = int(input(\"\"))\n",
    "    print(a + b)\n",
    "    print(a - b)\n",
    "    print(a * b)"
   ]
  },
  {
   "cell_type": "code",
   "execution_count": 5,
   "metadata": {},
   "outputs": [
    {
     "name": "stdin",
     "output_type": "stream",
     "text": [
      " 3\n",
      " 5\n"
     ]
    },
    {
     "name": "stdout",
     "output_type": "stream",
     "text": [
      "0\n",
      "0.6\n"
     ]
    }
   ],
   "source": [
    "#Python division \n",
    "if __name__ == '__main__':\n",
    "    a = int(input())\n",
    "    b = int(input())\n",
    "    print(a // b)\n",
    "    print(a / b)"
   ]
  },
  {
   "cell_type": "code",
   "execution_count": 7,
   "metadata": {},
   "outputs": [
    {
     "name": "stdin",
     "output_type": "stream",
     "text": [
      " 5\n"
     ]
    },
    {
     "name": "stdout",
     "output_type": "stream",
     "text": [
      "0\n",
      "1\n",
      "4\n",
      "9\n",
      "16\n"
     ]
    }
   ],
   "source": [
    "#Loop\n",
    "if __name__ == '__main__':\n",
    "    n = int(input())\n",
    "    for i in range( n):\n",
    "        print(i * i)"
   ]
  },
  {
   "cell_type": "code",
   "execution_count": 10,
   "metadata": {},
   "outputs": [
    {
     "name": "stdin",
     "output_type": "stream",
     "text": [
      " 1992\n"
     ]
    },
    {
     "name": "stdout",
     "output_type": "stream",
     "text": [
      "True\n"
     ]
    }
   ],
   "source": [
    "#Write a function\n",
    "def is_leap(year):\n",
    "    leap = False\n",
    "    if (year % 100 == 0) and (year % 400 != 0):\n",
    "        return leap\n",
    "      \n",
    "    elif (year % 4 == 0) and not (year % 100 == 0):\n",
    "        leap = True\n",
    "    \n",
    "    elif (year % 4 == 0) and (year % 400 == 0):             \n",
    "        leap = True\n",
    "    \n",
    "    return leap\n",
    "    \n",
    "        \n",
    "    \n",
    "year = int(input())\n",
    "print(is_leap(year))"
   ]
  },
  {
   "cell_type": "code",
   "execution_count": 12,
   "metadata": {},
   "outputs": [
    {
     "name": "stdin",
     "output_type": "stream",
     "text": [
      " 3\n"
     ]
    },
    {
     "name": "stdout",
     "output_type": "stream",
     "text": [
      "123\n"
     ]
    }
   ],
   "source": [
    "#print Function\n",
    "if __name__ == '__main__':\n",
    "    n = int(input(\"\"))\n",
    "    elements = []\n",
    "    for i in range(1, n+1):\n",
    "        elements.append(i)\n",
    "        str_num = [str(num) for num in elements]\n",
    "        numbers = \"\".join(str_num)\n",
    "    print(numbers)"
   ]
  }
 ],
 "metadata": {
  "kernelspec": {
   "display_name": "Python 3",
   "language": "python",
   "name": "python3"
  },
  "language_info": {
   "codemirror_mode": {
    "name": "ipython",
    "version": 3
   },
   "file_extension": ".py",
   "mimetype": "text/x-python",
   "name": "python",
   "nbconvert_exporter": "python",
   "pygments_lexer": "ipython3",
   "version": "3.7.3"
  }
 },
 "nbformat": 4,
 "nbformat_minor": 4
}
