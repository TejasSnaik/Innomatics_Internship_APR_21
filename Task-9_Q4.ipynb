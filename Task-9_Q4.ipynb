{
 "cells": [
  {
   "cell_type": "code",
   "execution_count": 4,
   "metadata": {},
   "outputs": [],
   "source": [
    "import numpy as np\n",
    "from scipy.stats import norm\n",
    "from scipy.stats import t\n",
    "import matplotlib.pyplot as plt\n",
    "import random"
   ]
  },
  {
   "cell_type": "code",
   "execution_count": 3,
   "metadata": {},
   "outputs": [],
   "source": [
    "def z_score(sample_mean, sample_size, pop_mean, pop_std):\n",
    "    num = sample_mean - pop_mean\n",
    "    deno = pop_std / sample_size ** 0.5\n",
    "    return num/ deno\n"
   ]
  },
  {
   "cell_type": "markdown",
   "metadata": {},
   "source": [
    "$\n",
    "Step\\ 1:\\\\\n",
    "Null\\ Hypothesis(Status\\ Quo):H_o\\ \\geq\\ 100\\ ms\\\\\n",
    "Alternate\\ Hypothesis(Bold\\ claim):H_1\\ <\\ 100\\ ms\\\\\n",
    "$"
   ]
  },
  {
   "cell_type": "markdown",
   "metadata": {},
   "source": [
    "$\n",
    "Step\\ 2:\\\\\n",
    "Collect\\ a\\ Sample\\ of\\ size\\ n\\ =\\ 20\\\\\n",
    "$\n",
    "$$\n",
    "Sample = [82,\\  66,\\ 145,\\ 148,\\ 142,\\ 136,\\ 149,\\ 136,\\ 112,\\ 135,\\  73,\\  71,\\  93,\\\n",
    "         87,\\ 138,\\ 144,\\  74,\\  68,\\  88,\\ 118]\\\\\n",
    "$$\n",
    "$\n",
    "Calculate\\ the\\ mean(\\overline{X})\\ of\\ the\\ sample.\\\n",
    "$"
   ]
  },
  {
   "cell_type": "code",
   "execution_count": 63,
   "metadata": {},
   "outputs": [
    {
     "name": "stdout",
     "output_type": "stream",
     "text": [
      "sample-mean: 97.5\n"
     ]
    }
   ],
   "source": [
    "Samples = [82,  66, 125, 118, 122, 126, 129, 120, 112, 103,  73,  79,  93,\n",
    "         87, 116, 104,  74,  68,  88, 118]\n",
    "n = 100\n",
    "sample_mean = 97.5\n",
    "print(\"sample-mean:\", sample_mean)"
   ]
  },
  {
   "cell_type": "markdown",
   "metadata": {},
   "source": [
    "$\n",
    "Step\\ 3:\\\n",
    "Compute\\ Test\\ Statistics.\\\\\n",
    "Use\\ \"z-score\"\\ if\\ Standard\\ Deviation(\\sigma)\\ is\\ given\\\\\n",
    "$\n",
    "$$\n",
    "z-score\\ =\\  \\frac{\\overline{X}-\\mu_{\\overline{X}}}{\\frac{\\sigma}{\\sqrt{n}}} \\\\\n",
    "$$\n",
    "$\n",
    "Else\\ use\\ \"t-score\"\\ if\\ Standard\\ Deviation(\\sigma)\\ is\\ not\\ given\\:\\\n",
    "$\n",
    "$$\n",
    "t-score\\ =\\ \\frac{\\overline{X}-\\mu_{\\overline{X}}}{\\frac{S}{\\sqrt{n}}}\\\\\n",
    "$$\n",
    "$$\n",
    "where, S\\ =\\ Sample\\ Standard\\ Deviation\\\\\n",
    "S = \\sqrt{\\frac{\\sum_{i=0}^{n}(Obs-\\overline{X})^2}{n-1}}\\\\\n",
    "\\mu_{\\overline{X}}\\ =\\ 100\\ =\\ Population\\ mean\\\\\n",
    "$$"
   ]
  },
  {
   "cell_type": "code",
   "execution_count": 64,
   "metadata": {},
   "outputs": [
    {
     "name": "stdout",
     "output_type": "stream",
     "text": [
      "SD: 7\n",
      "SE: 0.7\n"
     ]
    }
   ],
   "source": [
    "SD = 7\n",
    "#np.sqrt(sum((i-sample_mean)**2 for i in Samples)/ (n-1))\n",
    "print(\"SD:\", SD)\n",
    "pop_mean = \n",
    "SE = SD / n ** 0.5\n",
    "print(\"SE:\", SE)"
   ]
  },
  {
   "cell_type": "markdown",
   "metadata": {},
   "source": [
    "$Since\\ we\\ don't\\ have\\ \\sigma\\ given\\ we\\ will\\ go\\ for\\ t-score\\$"
   ]
  },
  {
   "cell_type": "code",
   "execution_count": 65,
   "metadata": {},
   "outputs": [
    {
     "name": "stdout",
     "output_type": "stream",
     "text": [
      "t-score: -3.5714285714285716\n"
     ]
    }
   ],
   "source": [
    "t_score = z_score(sample_mean, n, pop_mean, SD)\n",
    "print(\"t-score:\", t_score)"
   ]
  },
  {
   "cell_type": "markdown",
   "metadata": {},
   "source": [
    "$\n",
    "Step\\ 4:\\\\ \n",
    "Decide\\ the\\ value\\ of\\ significance\\ level(\\alpha)\\\\\n",
    "If\\ confidence\\ level\\ is\\ taken\\ as\\ 95\\%\\ =\\ 0.95 \\\\\n",
    "then, \\\\\n",
    "$\n",
    "$$\n",
    "1\\ -\\ \\alpha\\ =\\ 0.95\\\\\n",
    "\\alpha\\ =\\ 0.05\\\\\n",
    "$$"
   ]
  },
  {
   "cell_type": "code",
   "execution_count": 66,
   "metadata": {},
   "outputs": [],
   "source": [
    "confidence_level = 0.95\n",
    "alpha = 1 - confidence_level\n",
    "alpha = 0.05"
   ]
  },
  {
   "cell_type": "code",
   "execution_count": 75,
   "metadata": {},
   "outputs": [
    {
     "name": "stdout",
     "output_type": "stream",
     "text": [
      "t_critical: 1.6603911559963895\n"
     ]
    }
   ],
   "source": [
    "t_critical = t.ppf(1.0 - alpha, df = 99)\n",
    "print(\"t_critical:\", t_critical)"
   ]
  },
  {
   "cell_type": "markdown",
   "metadata": {},
   "source": [
    "$\n",
    "Step\\ 5.1:\\\n",
    "    Apply\\ decision\\ rule\\\\\n",
    "    For\\ Bold\\ Claim\\ H_o\\ <\\ 100\\ ms\\ we\\ consider\\ left\\ tailed\\ t-test.\\\\\n",
    "$    "
   ]
  },
  {
   "cell_type": "code",
   "execution_count": 86,
   "metadata": {},
   "outputs": [
    {
     "data": {
      "text/plain": [
       "Text(100.15, 0.05, 'x_bar')"
      ]
     },
     "execution_count": 86,
     "metadata": {},
     "output_type": "execute_result"
    },
    {
     "data": {
      "image/png": "[encoded data removed]",
      "text/plain": [
       "<Figure size 432x288 with 1 Axes>"
      ]
     },
     "metadata": {
      "needs_background": "light"
     },
     "output_type": "display_data"
    }
   ],
   "source": [
    "mn = 95\n",
    "mx = 105\n",
    "\n",
    "Mean = pop_mean\n",
    "std = SD / n ** 0.5\n",
    "\n",
    "x = np.linspace(mn, mx, 100)\n",
    "y = norm.pdf(x, Mean, std)\n",
    "plt.xlim(mn, mx)\n",
    "plt.plot(x, y)\n",
    "\n",
    "t_critical_left = pop_mean + (-t_critical * std)\n",
    "\n",
    "x1 = np.linspace(mn, t_critical_left, 100)\n",
    "y1 = norm.pdf(x1, Mean, std)\n",
    "plt.fill_between(x1, y1, color = \"yellow\")\n",
    "\n",
    "plt.scatter(mean, 0)\n",
    "plt.annotate(\"x_bar\", (mean, 0.05))"
   ]
  },
  {
   "cell_type": "markdown",
   "metadata": {},
   "source": [
    "$\n",
    "Step\\ 5.2:\\ Calculate\\ p-value\\ and\\ get\\ the\\ conclusion\\\\ \n",
    "$"
   ]
  },
  {
   "cell_type": "markdown",
   "metadata": {},
   "source": [
    "$Conclusion\\ using\\ t-test\\$"
   ]
  },
  {
   "cell_type": "code",
   "execution_count": 80,
   "metadata": {},
   "outputs": [
    {
     "name": "stdout",
     "output_type": "stream",
     "text": [
      "Reject Null Hypothesis\n"
     ]
    }
   ],
   "source": [
    "if (t_score < t_critical):\n",
    "    print(\"Reject Null Hypothesis\")\n",
    "else:\n",
    "    print(\"Fail to Reject Null Hypothesis\")"
   ]
  },
  {
   "cell_type": "markdown",
   "metadata": {},
   "source": [
    "$Conclusion\\ using\\ p-value\\$"
   ]
  },
  {
   "cell_type": "code",
   "execution_count": 81,
   "metadata": {},
   "outputs": [
    {
     "name": "stdout",
     "output_type": "stream",
     "text": [
      "p-value: 0.00017751969037349546\n",
      "Reject Null Hypothesis\n"
     ]
    }
   ],
   "source": [
    "p_value = 1.0 -norm.cdf(np.abs(t_score))\n",
    "print(\"p-value:\", p_value)\n",
    "\n",
    "if (p_value < alpha):\n",
    "    print(\"Reject Null Hypothesis\")\n",
    "else:\n",
    "    print(\"Fail to reject Null Hypothesis\")"
   ]
  }
 ],
 "metadata": {
  "kernelspec": {
   "display_name": "Python 3",
   "language": "python",
   "name": "python3"
  },
  "language_info": {
   "codemirror_mode": {
    "name": "ipython",
    "version": 3
   },
   "file_extension": ".py",
   "mimetype": "text/x-python",
   "name": "python",
   "nbconvert_exporter": "python",
   "pygments_lexer": "ipython3",
   "version": "3.7.3"
  }
 },
 "nbformat": 4,
 "nbformat_minor": 4
}
