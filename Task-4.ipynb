{
 "cells": [
  {
   "cell_type": "code",
   "execution_count": 1,
   "metadata": {},
   "outputs": [
    {
     "name": "stdin",
     "output_type": "stream",
     "text": [
      " HackerRank.com presents \"Pythonist 2\"\n"
     ]
    },
    {
     "name": "stdout",
     "output_type": "stream",
     "text": [
      "hACKERrANK.COM PRESENTS \"pYTHONIST 2\"\n"
     ]
    }
   ],
   "source": [
    "#sWap Case\n",
    "def swap_case(s):\n",
    "    string = \"\"\n",
    "    for i in s:\n",
    "        if (i.isupper()) == True:\n",
    "            string += i.lower()\n",
    "        elif (i.islower()) == True:\n",
    "            string += i.upper()\n",
    "        elif i.isspace() == True:\n",
    "            string += i\n",
    "        else:\n",
    "            string += i                    \n",
    "    return string\n",
    "\n",
    "if __name__ == '__main__':\n",
    "    s = input()\n",
    "    result = swap_case(s)\n",
    "    print(result)"
   ]
  },
  {
   "cell_type": "code",
   "execution_count": 2,
   "metadata": {},
   "outputs": [
    {
     "name": "stdin",
     "output_type": "stream",
     "text": [
      " this is a string\n"
     ]
    },
    {
     "name": "stdout",
     "output_type": "stream",
     "text": [
      "this-is-a-string\n"
     ]
    }
   ],
   "source": [
    "#String Split and Join\n",
    "def split_and_join(line):\n",
    "    split = line.split(\" \")\n",
    "    join = \"-\".join(split)\n",
    "    return join\n",
    "\n",
    "if __name__ == '__main__':\n",
    "    line = input()\n",
    "    result = split_and_join(line)\n",
    "    print(result)"
   ]
  },
  {
   "cell_type": "code",
   "execution_count": 3,
   "metadata": {},
   "outputs": [
    {
     "name": "stdin",
     "output_type": "stream",
     "text": [
      " Ross\n",
      " Taylor\n"
     ]
    },
    {
     "name": "stdout",
     "output_type": "stream",
     "text": [
      "Hello Ross Taylor! You just delved into python.\n"
     ]
    }
   ],
   "source": [
    "#What's Your Name?\n",
    "def print_full_name(first, last):\n",
    "    print(f'Hello {first} {last}! You just delved into python.')\n",
    "\n",
    "if __name__ == '__main__':\n",
    "    first_name = input()\n",
    "    last_name = input()\n",
    "    print_full_name(first_name, last_name)"
   ]
  },
  {
   "cell_type": "code",
   "execution_count": 4,
   "metadata": {},
   "outputs": [
    {
     "name": "stdin",
     "output_type": "stream",
     "text": [
      " abracadabra\n",
      " 5 k\n"
     ]
    },
    {
     "name": "stdout",
     "output_type": "stream",
     "text": [
      "abrackdabra\n"
     ]
    }
   ],
   "source": [
    "#Mutations\n",
    "def mutate_string(string, position, character):\n",
    "    m = s[:int(i)] + c + s[int(i)+1:]\n",
    "    return m\n",
    "\n",
    "if __name__ == '__main__':\n",
    "    s = input()\n",
    "    i, c = input().split()\n",
    "    s_new = mutate_string(s, int(i), c)\n",
    "    print(s_new)"
   ]
  },
  {
   "cell_type": "code",
   "execution_count": 6,
   "metadata": {},
   "outputs": [
    {
     "name": "stdin",
     "output_type": "stream",
     "text": [
      " ABCDCDC\n",
      " CDC\n"
     ]
    },
    {
     "name": "stdout",
     "output_type": "stream",
     "text": [
      "2\n"
     ]
    }
   ],
   "source": [
    "#Find a string\n",
    "def count_substring(string, sub_string):\n",
    "    count = 0    \n",
    "    for p in range(len(string)):\n",
    "        if string[p:].startswith(sub_string):\n",
    "            count += 1\n",
    "\n",
    "    return count\n",
    "if __name__ == '__main__':\n",
    "    string = input().strip()\n",
    "    sub_string = input().strip()\n",
    "    \n",
    "    count = count_substring(string, sub_string)\n",
    "    print(count)"
   ]
  },
  {
   "cell_type": "code",
   "execution_count": 2,
   "metadata": {},
   "outputs": [
    {
     "name": "stdin",
     "output_type": "stream",
     "text": [
      " qA2\n"
     ]
    },
    {
     "name": "stdout",
     "output_type": "stream",
     "text": [
      "True\n",
      "True\n",
      "True\n",
      "True\n",
      "True\n"
     ]
    }
   ],
   "source": [
    "#string Validator\n",
    "if __name__ == '__main__':\n",
    "    s = input()\n",
    "    for a in s:\n",
    "        if a.isalnum():\n",
    "            print(True)\n",
    "            break\n",
    "    else:\n",
    "        print(False)\n",
    "    for a in s:\n",
    "        if a.isalpha():\n",
    "            print(True)\n",
    "            break\n",
    "    else:\n",
    "        print(False)\n",
    "    for a in s:\n",
    "        if a.isdigit():\n",
    "            print(True)\n",
    "            break\n",
    "    else:\n",
    "        print(False)\n",
    "    for a in s:\n",
    "        if a.islower():\n",
    "            print(True)\n",
    "            break\n",
    "    else:\n",
    "        print(False)\n",
    "    for a in s:\n",
    "        if a.isupper():\n",
    "            print(True)\n",
    "            break\n",
    "    else:\n",
    "        print(False)\n"
   ]
  },
  {
   "cell_type": "code",
   "execution_count": 1,
   "metadata": {},
   "outputs": [
    {
     "name": "stdin",
     "output_type": "stream",
     "text": [
      " 5\n"
     ]
    },
    {
     "name": "stdout",
     "output_type": "stream",
     "text": [
      "    H    \n",
      "   HHH   \n",
      "  HHHHH  \n",
      " HHHHHHH \n",
      "HHHHHHHHH\n",
      "  HHHHH               HHHHH             \n",
      "  HHHHH               HHHHH             \n",
      "  HHHHH               HHHHH             \n",
      "  HHHHH               HHHHH             \n",
      "  HHHHH               HHHHH             \n",
      "  HHHHH               HHHHH             \n",
      "  HHHHHHHHHHHHHHHHHHHHHHHHH   \n",
      "  HHHHHHHHHHHHHHHHHHHHHHHHH   \n",
      "  HHHHHHHHHHHHHHHHHHHHHHHHH   \n",
      "  HHHHH               HHHHH             \n",
      "  HHHHH               HHHHH             \n",
      "  HHHHH               HHHHH             \n",
      "  HHHHH               HHHHH             \n",
      "  HHHHH               HHHHH             \n",
      "  HHHHH               HHHHH             \n",
      "                    HHHHHHHHH \n",
      "                     HHHHHHH  \n",
      "                      HHHHH   \n",
      "                       HHH    \n",
      "                        H     \n"
     ]
    }
   ],
   "source": [
    "#Text Alignment\n",
    "\n",
    "thickness = int(input()) #This must be an odd number\n",
    "c = 'H'\n",
    "\n",
    "#Top Cone\n",
    "for i in range(thickness):\n",
    "    print((c*i).rjust(thickness-1)+c+(c*i).ljust(thickness-1))\n",
    "\n",
    "#Top Pillars\n",
    "for i in range(thickness+1):\n",
    "    print((c*thickness).center(thickness*2)+(c*thickness).center(thickness*6))\n",
    "\n",
    "#Middle Belt\n",
    "for i in range((thickness+1)//2):\n",
    "    print((c*thickness*5).center(thickness*6))    \n",
    "\n",
    "#Bottom Pillars\n",
    "for i in range(thickness+1):\n",
    "    print((c*thickness).center(thickness*2)+(c*thickness).center(thickness*6))    \n",
    "\n",
    "#Bottom Cone\n",
    "for i in range(thickness):\n",
    "    print(((c*(thickness-i-1)).rjust(thickness)+c+(c*(thickness-i-1)).ljust(thickness)).rjust(thickness*6))\n"
   ]
  },
  {
   "cell_type": "code",
   "execution_count": 1,
   "metadata": {},
   "outputs": [
    {
     "name": "stdin",
     "output_type": "stream",
     "text": [
      " ABCDEFGHIJKLIMNOQRSTUVWXYZ\n",
      " 4\n"
     ]
    },
    {
     "name": "stdout",
     "output_type": "stream",
     "text": [
      "ABCD\n",
      "EFGH\n",
      "IJKL\n",
      "IMNO\n",
      "QRST\n",
      "UVWX\n",
      "YZ\n"
     ]
    }
   ],
   "source": [
    "#Text Wrap\n",
    "import textwrap\n",
    "\n",
    "def wrap(string, max_width):\n",
    "    \n",
    "    m = textwrap.wrap(text=string, width = max_width)\n",
    "    return \"\\n\".join(m)\n",
    "\n",
    "if __name__ == '__main__':\n",
    "    string, max_width = input(), int(input())\n",
    "    result = wrap(string, max_width)\n",
    "    print(result)"
   ]
  },
  {
   "cell_type": "code",
   "execution_count": 2,
   "metadata": {},
   "outputs": [
    {
     "name": "stdin",
     "output_type": "stream",
     "text": [
      " 9 27\n"
     ]
    },
    {
     "name": "stdout",
     "output_type": "stream",
     "text": [
      "------------.|.------------\n",
      "---------.|..|..|.---------\n",
      "------.|..|..|..|..|.------\n",
      "---.|..|..|..|..|..|..|.---\n",
      "----------WELCOME----------\n",
      "---.|..|..|..|..|..|..|.---\n",
      "------.|..|..|..|..|.------\n",
      "---------.|..|..|.---------\n",
      "------------.|.------------\n"
     ]
    }
   ],
   "source": [
    "#Design Door mat\n",
    "N, M = input().split()\n",
    "\n",
    "for i in range(1, int(N), 2):\n",
    "    print((\".|.\"*i).center(int(M), \"-\"))\n",
    "\n",
    "print(\"WELCOME\".center(int(M), \"-\"))\n",
    "\n",
    "for j in range(int(N)-2, -1,  -2):\n",
    "    print((\".|.\" * j).center(int(M), \"-\"))"
   ]
  },
  {
   "cell_type": "code",
   "execution_count": 4,
   "metadata": {},
   "outputs": [
    {
     "name": "stdin",
     "output_type": "stream",
     "text": [
      " 2\n"
     ]
    },
    {
     "name": "stdout",
     "output_type": "stream",
     "text": [
      " 1  1  1  1\n",
      " 2  2  2 10\n"
     ]
    }
   ],
   "source": [
    "#String Formating\n",
    "def print_formatted(number):\n",
    "    width = len(bin(number)[2:])\n",
    "    for i in range(1, number+1):\n",
    "        Hexadecimal = hex(i).replace(\"0x\", \"\").upper().rjust(width, \" \")\n",
    "        Octal = oct(i).replace(\"0o\", \"\").rjust(width, \" \")\n",
    "        Binary = bin(i).replace(\"0b\", \"\").rjust(width, \" \")\n",
    "        Decimal = str(i).rjust(width, \" \")\n",
    "        print(Decimal, Octal, Hexadecimal, Binary)\n",
    "\n",
    "    \n",
    "if __name__ == '__main__':\n",
    "    n = int(input())\n",
    "    print_formatted(n)"
   ]
  },
  {
   "cell_type": "code",
   "execution_count": 5,
   "metadata": {},
   "outputs": [
    {
     "name": "stdin",
     "output_type": "stream",
     "text": [
      " 10\n"
     ]
    },
    {
     "name": "stdout",
     "output_type": "stream",
     "text": [
      "------------------j------------------\n",
      "----------------j-i-j----------------\n",
      "--------------j-i-h-i-j--------------\n",
      "------------j-i-h-g-h-i-j------------\n",
      "----------j-i-h-g-f-g-h-i-j----------\n",
      "--------j-i-h-g-f-e-f-g-h-i-j--------\n",
      "------j-i-h-g-f-e-d-e-f-g-h-i-j------\n",
      "----j-i-h-g-f-e-d-c-d-e-f-g-h-i-j----\n",
      "--j-i-h-g-f-e-d-c-b-c-d-e-f-g-h-i-j--\n",
      "j-i-h-g-f-e-d-c-b-a-b-c-d-e-f-g-h-i-j\n",
      "--j-i-h-g-f-e-d-c-b-c-d-e-f-g-h-i-j--\n",
      "----j-i-h-g-f-e-d-c-d-e-f-g-h-i-j----\n",
      "------j-i-h-g-f-e-d-e-f-g-h-i-j------\n",
      "--------j-i-h-g-f-e-f-g-h-i-j--------\n",
      "----------j-i-h-g-f-g-h-i-j----------\n",
      "------------j-i-h-g-h-i-j------------\n",
      "--------------j-i-h-i-j--------------\n",
      "----------------j-i-j----------------\n",
      "------------------j------------------\n"
     ]
    }
   ],
   "source": [
    "#Alphabet Rangoli\n",
    "def print_rangoli(size):\n",
    "    # your code goes here\n",
    "    alpha = ['a', 'b', 'c', 'd', 'e', 'f', 'g', 'h', 'i', 'j', 'k', 'l', 'm', 'n', 'o', 'p', 'q', 'r', 's', 't', 'u',\n",
    "             'v', 'w', 'x', 'y', 'z']\n",
    "    m = [alpha[e] for e in range(size-1, -1, -1)]\n",
    "    p = int(((size+(size-1)+(size+size-2))-3)/2)\n",
    "    for k in range(size):\n",
    "        print(((\"-\".join(m[:k])).rjust(p, \"-\")) + m[k].center(3, \"-\") + ((\"-\".join(alpha[size-k:size]\n",
    "                                                                                        )).ljust(p, \"-\")))\n",
    "    for l in range(size-2, -1, -1):\n",
    "        print((\"-\".join(m[:l])).rjust(p, \"-\") + alpha[size-l-1].center(3, \"-\") + (\"-\".join(alpha[size-l:size])).ljust(p, \"-\"))\n",
    "\n",
    "\n",
    "if __name__ == '__main__':\n",
    "    n = int(input())\n",
    "    print_rangoli(n)"
   ]
  },
  {
   "cell_type": "code",
   "execution_count": null,
   "metadata": {},
   "outputs": [],
   "source": [
    "#capitalize\n",
    "import os\n",
    "import math\n",
    "import random\n",
    "import re \n",
    "import sys\n",
    "\n",
    "def solve(s):\n",
    "    return(\" \".join(i.capitalize() for i in s.split(\" \")))\n",
    "   \n",
    "    \n",
    "if __name__ == '__main__':\n",
    "    fptr = open(os.environ['OUTPUT_PATH'], 'w')\n",
    "\n",
    "    s = input()\n",
    "\n",
    "    result = solve(s)\n",
    "\n",
    "    fptr.write(result + '\\n')\n",
    "\n",
    "    fptr.close()"
   ]
  },
  {
   "cell_type": "code",
   "execution_count": 3,
   "metadata": {},
   "outputs": [
    {
     "name": "stdin",
     "output_type": "stream",
     "text": [
      " BANANA\n"
     ]
    },
    {
     "name": "stdout",
     "output_type": "stream",
     "text": [
      "Stuart 12\n"
     ]
    }
   ],
   "source": [
    "#Minion Game\n",
    "def minion_game(string):\n",
    "    vowels = \"AaEeIiOoUu\"\n",
    "    z = ([i for i in string])\n",
    "    filter_d = list(filter(lambda x: x != '',  set([string[k:m] for m in range(len(string)+1) for k in range(len(z))])))\n",
    "    stuart = 0\n",
    "    kevin = 0\n",
    "    for cons in [o for o in filter_d if o[0] not in vowels]:\n",
    "        for z in range(len(string)):\n",
    "            if string[z:].startswith(cons):\n",
    "                stuart += 1\n",
    "    for vow in [f for f in filter_d if f[0] in vowels]:\n",
    "        for b in range(len(string)):\n",
    "            if string[b:].startswith(vow):\n",
    "                kevin += 1\n",
    "    if stuart > kevin:            \n",
    "        print(f'Stuart {stuart}')\n",
    "    elif kevin > stuart:\n",
    "        print(f'Kevin {kevin}')\n",
    "    else:\n",
    "        print(\"Draw\")\n",
    "  \n",
    "    \n",
    "if __name__ == '__main__':\n",
    "    s = input()\n",
    "    minion_game(s)"
   ]
  },
  {
   "cell_type": "code",
   "execution_count": 1,
   "metadata": {},
   "outputs": [
    {
     "name": "stdin",
     "output_type": "stream",
     "text": [
      " AABCAAADA\n",
      " 3\n"
     ]
    },
    {
     "name": "stdout",
     "output_type": "stream",
     "text": [
      "AB\n",
      "CA\n",
      "AD\n"
     ]
    }
   ],
   "source": [
    "#Merge the Tools\n",
    "import textwrap\n",
    "def merge_the_tools(string, k):\n",
    "    A = textwrap.wrap(text=string, width=k)\n",
    "    for i in A:\n",
    "        seen = []\n",
    "        for m in i:\n",
    "            if m not in seen:\n",
    "                seen.append(m)\n",
    "        print(\"\".join(seen))\n",
    "\n",
    "if __name__ == '__main__':\n",
    "    string, k = input(), int(input())\n",
    "    merge_the_tools(string, k)"
   ]
  }
 ],
 "metadata": {
  "kernelspec": {
   "display_name": "Python 3",
   "language": "python",
   "name": "python3"
  },
  "language_info": {
   "codemirror_mode": {
    "name": "ipython",
    "version": 3
   },
   "file_extension": ".py",
   "mimetype": "text/x-python",
   "name": "python",
   "nbconvert_exporter": "python",
   "pygments_lexer": "ipython3",
   "version": "3.7.3"
  }
 },
 "nbformat": 4,
 "nbformat_minor": 4
}
