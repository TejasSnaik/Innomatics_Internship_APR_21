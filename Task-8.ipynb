{
 "cells": [
  {
   "cell_type": "code",
   "execution_count": 2,
   "metadata": {},
   "outputs": [
    {
     "name": "stdout",
     "output_type": "stream",
     "text": [
      "0.696\n"
     ]
    }
   ],
   "source": [
    "# Binomial Distribution I\n",
    "import math\n",
    "p = 1.09 / 2.09\n",
    "f = 0\n",
    "for x in range(3, 7):\n",
    "    f += ((math.factorial(6))/(math.factorial(x) * math.factorial(6-x))) * (p**x) * ((1-p)**(6-x))\n",
    "print(\"%.3f\" %f)"
   ]
  },
  {
   "cell_type": "code",
   "execution_count": 1,
   "metadata": {},
   "outputs": [
    {
     "name": "stdin",
     "output_type": "stream",
     "text": [
      " 12 10\n"
     ]
    },
    {
     "name": "stdout",
     "output_type": "stream",
     "text": [
      "0.891\n",
      "0.342\n"
     ]
    }
   ],
   "source": [
    "def fact(n):\n",
    "    return 1 if n == 0 else n*fact(n-1)\n",
    "\n",
    "def comb(n, x):\n",
    "    return fact(n) / (fact(x) * fact(n-x))\n",
    "\n",
    "def b(x, n, p):\n",
    "    return comb(n, x) * p**x * (1-p)**(n-x)\n",
    "\n",
    "p, n = list(map(int, input().split(\" \")))\n",
    "print(round(sum([b(i, n, p/100) for i in range(3)]), 3))\n",
    "print(round(sum([b(i, n, p/100) for i in range(2, n+1)]), 3))"
   ]
  },
  {
   "cell_type": "code",
   "execution_count": 3,
   "metadata": {},
   "outputs": [
    {
     "name": "stdin",
     "output_type": "stream",
     "text": [
      " 20 2\n",
      " 19.5\n",
      " 20 22\n"
     ]
    },
    {
     "name": "stdout",
     "output_type": "stream",
     "text": [
      "0.401\n",
      "0.341\n"
     ]
    }
   ],
   "source": [
    "#Normal Distribution I\n",
    "import math\n",
    "mean, std = map(float, input().split())\n",
    "m = float(input())\n",
    "n, q = map(float, input().split())\n",
    "\n",
    "\n",
    "def cdf(y):\n",
    "    cd = 0.5 * (1 + math.erf((y - mean) / (std * 2 ** 0.5)))\n",
    "    return cd\n",
    "\n",
    "\n",
    "print(\"%.3f\" % cdf(m))\n",
    "print(\"%.3f\" % (cdf(q) - cdf(n)))"
   ]
  },
  {
   "cell_type": "code",
   "execution_count": 4,
   "metadata": {},
   "outputs": [
    {
     "name": "stdin",
     "output_type": "stream",
     "text": [
      " 70 10\n",
      " 80\n",
      " 60\n"
     ]
    },
    {
     "name": "stdout",
     "output_type": "stream",
     "text": [
      "15.87\n",
      "84.13\n",
      "15.87\n"
     ]
    }
   ],
   "source": [
    "#Normal Distribution II\n",
    "import math\n",
    "\n",
    "mean, std = map(float, input().split())\n",
    "n = float(input())\n",
    "m = float(input())\n",
    "\n",
    "\n",
    "def cdf(x):\n",
    "    cd = 0.5 * (1 + math.erf((x - mean) / (std * 2 ** 0.5)))\n",
    "    return cd\n",
    "\n",
    "\n",
    "print(\"%.2f\" % ((1 - cdf(n)) * 100))\n",
    "print(\"%.2f\" % ((1 - cdf(m)) * 100))\n",
    "print(\"%.2f\" % (cdf(m) * 100))"
   ]
  },
  {
   "cell_type": "code",
   "execution_count": 7,
   "metadata": {},
   "outputs": [
    {
     "name": "stdin",
     "output_type": "stream",
     "text": [
      " 9800\n",
      " 49\n",
      " 205\n",
      " 15\n"
     ]
    },
    {
     "name": "stdout",
     "output_type": "stream",
     "text": [
      "0.0098\n"
     ]
    }
   ],
   "source": [
    "# The Central Limit Theorem I\n",
    "import math\n",
    "\n",
    "x = int(input())\n",
    "n = int(input())\n",
    "mu = int(input())\n",
    "sigma = int(input())\n",
    "\n",
    "mu_sum = n * mu \n",
    "sigma_sum = math.sqrt(n) * sigma\n",
    "\n",
    "def cdf(x, mu, sigma):\n",
    "    Z = (x - mu)/sigma\n",
    "    return 0.5*(1 + math.erf(Z/(math.sqrt(2))))\n",
    "\n",
    "print(round(cdf(x, mu_sum, sigma_sum), 4))\n"
   ]
  },
  {
   "cell_type": "code",
   "execution_count": 5,
   "metadata": {},
   "outputs": [
    {
     "name": "stdin",
     "output_type": "stream",
     "text": [
      " 250\n",
      " 100\n",
      " 2.4\n",
      " 2.0\n"
     ]
    },
    {
     "name": "stdout",
     "output_type": "stream",
     "text": [
      "0.6915\n"
     ]
    }
   ],
   "source": [
    "#Central limit theorem II \n",
    "import math\n",
    "tickets = int(input())\n",
    "n = int(input())\n",
    "mean = float(input())\n",
    "std = float(input())\n",
    "\n",
    "mu_mean = n * mean\n",
    "s_std = math.sqrt(n) * std\n",
    "\n",
    "def cdf(x):\n",
    "    z = (x - mu_mean )/ s_std \n",
    "    return 0.5 * (1 + math.erf(z / math.sqrt(2)))\n",
    "\n",
    "print(\"%.4f\" % cdf(tickets))\n"
   ]
  },
  {
   "cell_type": "code",
   "execution_count": 8,
   "metadata": {},
   "outputs": [
    {
     "name": "stdout",
     "output_type": "stream",
     "text": [
      "484.32\n",
      "515.68\n"
     ]
    }
   ],
   "source": [
    "#Central limit theorem III\n",
    "n = 100\n",
    "mu = 500\n",
    "sigma = 80\n",
    "z = 1.96\n",
    "\n",
    "A = mu - z * (sigma / n**0.5)\n",
    "B = mu + z * (sigma / n**0.5)\n",
    "print(\"%.2f\" % A)\n",
    "print(\"%.2f\" % B)"
   ]
  },
  {
   "cell_type": "code",
   "execution_count": 9,
   "metadata": {},
   "outputs": [
    {
     "name": "stdin",
     "output_type": "stream",
     "text": [
      " 10\n",
      " 10 9.8 8 7.8 7.7 7 6 5 4 2 \n",
      " 200 44 32 24 22 17 15 12 8 4\n"
     ]
    },
    {
     "name": "stdout",
     "output_type": "stream",
     "text": [
      "0.612\n"
     ]
    }
   ],
   "source": [
    "# Pearson Correlation Coefficient I\n",
    "n = int(input())\n",
    "X = list(map(float, input().strip().split()))\n",
    "Y = list(map(float, input().strip().split()))\n",
    "x_mean = sum(X) / n\n",
    "y_mean = sum(Y) / n\n",
    "x_var = sum([((i - x_mean)**2 / n) for i in X])\n",
    "y_var = sum([((j - y_mean)**2 / n) for j in Y])\n",
    "x_std = x_var ** 0.5\n",
    "y_std = y_var ** 0.5\n",
    "covar = sum([(X[i] - x_mean) * (Y[i] - y_mean) for i in range(n)])\n",
    "\n",
    "s = (n * x_std * y_std)\n",
    "pearson = covar/ s\n",
    "print(\"%.3f\" % pearson)"
   ]
  },
  {
   "cell_type": "code",
   "execution_count": 11,
   "metadata": {},
   "outputs": [
    {
     "name": "stdout",
     "output_type": "stream",
     "text": [
      "78.288\n"
     ]
    }
   ],
   "source": [
    "# Least Square Regression Line\n",
    "x = [95, 85, 80, 70, 60]\n",
    "y = [85, 95, 70, 65, 70]\n",
    "n = 5\n",
    "xi = sum(x)\n",
    "yi = sum(y)\n",
    "xy = sum([x[i] * y[i] for i in range(n)])\n",
    "x_qrt = sum([r**2 for r in x])\n",
    "y_qrt = sum([e**2 for e in y])\n",
    "m = ((n * xy) - xi * yi) / ((n * x_qrt) - xi**2)\n",
    "c = yi/n - m * xi/n\n",
    "Y = m * 80 + c\n",
    "print(round(Y, 3))"
   ]
  },
  {
   "cell_type": "code",
   "execution_count": 2,
   "metadata": {},
   "outputs": [
    {
     "name": "stdin",
     "output_type": "stream",
     "text": [
      " 2 7\n",
      " 0.18 0.89 109.85\n",
      " 1.0 0.26 155.72\n",
      " 0.92 0.11 137.66\n",
      " 0.07 0.37 76.17\n",
      " 0.85 0.16 139.75\n",
      " 0.99 0.41 162.6\n",
      " 0.87 0.47 151.77\n",
      " 4\n",
      " 0.49 0.18\n",
      " 0.57 0.83\n",
      " 0.56 0.64\n",
      " 0.76 0.18\n"
     ]
    },
    {
     "name": "stdout",
     "output_type": "stream",
     "text": [
      "105.21\n",
      "142.67\n",
      "132.94\n",
      "129.70\n"
     ]
    }
   ],
   "source": [
    "import numpy as np\n",
    "m, n = map(int, input().strip().split())\n",
    "lis = []\n",
    "Y = []\n",
    "for _ in range(n):\n",
    "    y = list(map(float, input().strip().split()))\n",
    "    y.insert(0, 1.0)\n",
    "    lis.append(y[:-1])\n",
    "    Y.append(y[-1])\n",
    "X = np.array(lis)\n",
    "Y = np.array(Y).reshape(n, 1)\n",
    "X_t = np.transpose(X)\n",
    "X_t_x = np.dot(X_t, X)\n",
    "B = np.dot((np.dot(np.linalg.pinv(X_t_x), X_t)), Y)\n",
    "q = int(input())\n",
    "Q = []\n",
    "for _ in range(q):\n",
    "    o = list(map(float, input().strip().split()))\n",
    "    o.insert(0, 1.0)\n",
    "    Q.append(o)\n",
    "v = np.matmul(Q, B)\n",
    "for value in v:\n",
    "    print(\"%.2f\" % value[0])"
   ]
  },
  {
   "cell_type": "code",
   "execution_count": null,
   "metadata": {},
   "outputs": [],
   "source": []
  }
 ],
 "metadata": {
  "kernelspec": {
   "display_name": "Python 3",
   "language": "python",
   "name": "python3"
  },
  "language_info": {
   "codemirror_mode": {
    "name": "ipython",
    "version": 3
   },
   "file_extension": ".py",
   "mimetype": "text/x-python",
   "name": "python",
   "nbconvert_exporter": "python",
   "pygments_lexer": "ipython3",
   "version": "3.7.3"
  }
 },
 "nbformat": 4,
 "nbformat_minor": 4
}
