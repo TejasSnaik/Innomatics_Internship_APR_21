{
 "cells": [
  {
   "cell_type": "code",
   "execution_count": 1,
   "metadata": {},
   "outputs": [
    {
     "name": "stdin",
     "output_type": "stream",
     "text": [
      " 1 2 3 4 -8 -10\n"
     ]
    },
    {
     "name": "stdout",
     "output_type": "stream",
     "text": [
      "[-10.  -8.   4.   3.   2.   1.]\n"
     ]
    }
   ],
   "source": [
    "#Arrays\n",
    "import numpy\n",
    "\n",
    "def arrays(arr):\n",
    "    # complete this function\n",
    "    # use numpy.array\n",
    "    lis = (numpy.array(arr, float))\n",
    "    res = lis[::-1]\n",
    "    return res\n",
    "\n",
    "    \n",
    "arr = input().strip().split(' ')\n",
    "result = arrays(arr)\n",
    "print(result)"
   ]
  },
  {
   "cell_type": "code",
   "execution_count": 3,
   "metadata": {},
   "outputs": [
    {
     "name": "stdin",
     "output_type": "stream",
     "text": [
      " 1 2 3 4 5 6 7 8 9\n"
     ]
    },
    {
     "name": "stdout",
     "output_type": "stream",
     "text": [
      "[[1 2 3]\n",
      " [4 5 6]\n",
      " [7 8 9]]\n"
     ]
    }
   ],
   "source": [
    "#Shape and Reshape\n",
    "import numpy as np\n",
    "n = list(map(int, input().split()))\n",
    "n_array = np.array(n)\n",
    "print(np.reshape(n_array, (3, 3)))"
   ]
  },
  {
   "cell_type": "code",
   "execution_count": 4,
   "metadata": {},
   "outputs": [
    {
     "name": "stdin",
     "output_type": "stream",
     "text": [
      " 3 3 \n",
      " 1 2 3\n",
      " 4 5 6\n",
      " 7 8 9\n"
     ]
    },
    {
     "name": "stdout",
     "output_type": "stream",
     "text": [
      "[[1 4 7]\n",
      " [2 5 8]\n",
      " [3 6 9]]\n",
      "[1 2 3 4 5 6 7 8 9]\n"
     ]
    }
   ],
   "source": [
    "#Transpose and Flatten\n",
    "import numpy as np\n",
    "n, m = input().split()\n",
    "M = []\n",
    "for i in range(int(n)):  \n",
    "    N = list(map(int, input().split()))\n",
    "    M.append(N)\n",
    "arr = np.array(M)\n",
    "trans = np.transpose(arr)\n",
    "print(trans)\n",
    "print(arr.flatten())"
   ]
  },
  {
   "cell_type": "code",
   "execution_count": 1,
   "metadata": {},
   "outputs": [
    {
     "name": "stdin",
     "output_type": "stream",
     "text": [
      " 4 3 2\n",
      " 1 2\n",
      " 1 2\n",
      " 1 2\n",
      " 1 2\n",
      " 3 4\n",
      " 3 4\n",
      " 3 4\n"
     ]
    },
    {
     "name": "stdout",
     "output_type": "stream",
     "text": [
      "[[1 2]\n",
      " [1 2]\n",
      " [1 2]\n",
      " [1 2]\n",
      " [3 4]\n",
      " [3 4]\n",
      " [3 4]]\n"
     ]
    }
   ],
   "source": [
    "#### Concatenate\n",
    "import numpy as np\n",
    "n, m, p = input().split()\n",
    "list1 = []\n",
    "list2 = []\n",
    "for i in range(int(n)):\n",
    "    N = list(map(int, input().split()))\n",
    "    list1.append(N)\n",
    "for j in range(int(m)):\n",
    "    M = list(map(int, input().split()))\n",
    "    list2.append(M)\n",
    "arr1 = np.array(list1)\n",
    "arr2 = np.array(list2)\n",
    "print(np.concatenate((arr1, arr2), axis = 0))"
   ]
  },
  {
   "cell_type": "code",
   "execution_count": 3,
   "metadata": {},
   "outputs": [
    {
     "name": "stdin",
     "output_type": "stream",
     "text": [
      " 3 3 3\n"
     ]
    },
    {
     "name": "stdout",
     "output_type": "stream",
     "text": [
      "[[[0 0 0]\n",
      "  [0 0 0]\n",
      "  [0 0 0]]\n",
      "\n",
      " [[0 0 0]\n",
      "  [0 0 0]\n",
      "  [0 0 0]]\n",
      "\n",
      " [[0 0 0]\n",
      "  [0 0 0]\n",
      "  [0 0 0]]]\n",
      "[[[1 1 1]\n",
      "  [1 1 1]\n",
      "  [1 1 1]]\n",
      "\n",
      " [[1 1 1]\n",
      "  [1 1 1]\n",
      "  [1 1 1]]\n",
      "\n",
      " [[1 1 1]\n",
      "  [1 1 1]\n",
      "  [1 1 1]]]\n"
     ]
    }
   ],
   "source": [
    "#Zeros and Ones\n",
    "import numpy as np\n",
    "inp = tuple(map(int, input().split()))\n",
    "print(np.zeros(inp, dtype = np.int))\n",
    "print(np.ones(inp, dtype = np.int))"
   ]
  },
  {
   "cell_type": "code",
   "execution_count": 4,
   "metadata": {},
   "outputs": [
    {
     "name": "stdin",
     "output_type": "stream",
     "text": [
      " 3 3\n"
     ]
    },
    {
     "name": "stdout",
     "output_type": "stream",
     "text": [
      "[[ 1.  0.  0.]\n",
      " [ 0.  1.  0.]\n",
      " [ 0.  0.  1.]]\n"
     ]
    }
   ],
   "source": [
    "#Eye and Identity\n",
    "import numpy as np\n",
    "np.set_printoptions(sign = \" \")\n",
    "n, m = input().split()\n",
    "print(np.eye(int(n), int(m)))\n",
    "\n"
   ]
  },
  {
   "cell_type": "code",
   "execution_count": 5,
   "metadata": {},
   "outputs": [
    {
     "name": "stdin",
     "output_type": "stream",
     "text": [
      " 1 4\n",
      " 1 2 3 4\n",
      " 5 6 7 8\n"
     ]
    },
    {
     "name": "stdout",
     "output_type": "stream",
     "text": [
      "[[ 6  8 10 12]]\n",
      "[[-4 -4 -4 -4]]\n",
      "[[ 5 12 21 32]]\n",
      "[[0 0 0 0]]\n",
      "[[1 2 3 4]]\n",
      "[[    1    64  2187 65536]]\n"
     ]
    }
   ],
   "source": [
    "#Array Mathematics\n",
    "import numpy as np\n",
    "\n",
    "n, m = map(int, input().split())\n",
    "A = np.array([list(map(int, input().split())) for _ in range(n)], int)\n",
    "B = np.array([list(map(int, input().split())) for _ in range(n)], int)\n",
    "print(A+B)\n",
    "print(A-B)\n",
    "print(A*B)\n",
    "print(A//B)\n",
    "print(A%B)\n",
    "print(A**B)"
   ]
  },
  {
   "cell_type": "code",
   "execution_count": 6,
   "metadata": {},
   "outputs": [
    {
     "name": "stdin",
     "output_type": "stream",
     "text": [
      " 1.1 2.2 3.3 4.4 5.5 6.6 7.7 8.8 9.9\n"
     ]
    },
    {
     "name": "stdout",
     "output_type": "stream",
     "text": [
      "[ 1.  2.  3.  4.  5.  6.  7.  8.  9.]\n",
      "[  2.   3.   4.   5.   6.   7.   8.   9.  10.]\n",
      "[  1.   2.   3.   4.   6.   7.   8.   9.  10.]\n"
     ]
    }
   ],
   "source": [
    "#Floor, Ceil and Rint\n",
    "import numpy as np\n",
    "np.set_printoptions(sign=' ')\n",
    "n = np.array(list(map(float, input().split())))\n",
    "print(np.floor(n))\n",
    "print(np.ceil(n))\n",
    "print(np.rint(n))\n"
   ]
  },
  {
   "cell_type": "code",
   "execution_count": 7,
   "metadata": {},
   "outputs": [
    {
     "name": "stdin",
     "output_type": "stream",
     "text": [
      " 2 2\n",
      " 1 2\n",
      " 3 4\n"
     ]
    },
    {
     "name": "stdout",
     "output_type": "stream",
     "text": [
      "24\n"
     ]
    }
   ],
   "source": [
    "#Sum and prod\n",
    "import numpy as np\n",
    "n, m = input().split()\n",
    "lis = []\n",
    "for _ in range(int(n)):\n",
    "    N = list(map(int, input().split()))\n",
    "    lis.append(N)\n",
    "arr = np.array(lis)\n",
    "Sum = np.sum(arr, axis = 0)\n",
    "print(np.prod(Sum))"
   ]
  },
  {
   "cell_type": "code",
   "execution_count": 1,
   "metadata": {},
   "outputs": [
    {
     "name": "stdin",
     "output_type": "stream",
     "text": [
      " 4 2\n",
      " 2 5\n",
      " 3 7\n",
      " 1 3\n",
      " 4 0\n"
     ]
    },
    {
     "name": "stdout",
     "output_type": "stream",
     "text": [
      "3\n"
     ]
    }
   ],
   "source": [
    "#MIN and Max \n",
    "import numpy as np \n",
    "n, m = input().split()\n",
    "lis = []\n",
    "for _ in range(int(n)):\n",
    "    N = list(map(int, input().split()))\n",
    "    lis.append(N)\n",
    "arr = np.array(lis)\n",
    "Min = np.min(arr, axis = 1)\n",
    "print(np.max(Min))"
   ]
  },
  {
   "cell_type": "code",
   "execution_count": 3,
   "metadata": {},
   "outputs": [
    {
     "name": "stdin",
     "output_type": "stream",
     "text": [
      " 2 2\n",
      " 1 2\n",
      " 3 4\n"
     ]
    },
    {
     "name": "stdout",
     "output_type": "stream",
     "text": [
      "[1.5 3.5]\n",
      "[1. 1.]\n",
      "1.11803398875\n"
     ]
    }
   ],
   "source": [
    "#Mean, Var, and Std\n",
    "import numpy as np\n",
    "n, m = input().split()\n",
    "lis = []\n",
    "for _ in range(int(n)):\n",
    "    N = list(map(int, input().split()))\n",
    "    lis.append(N)\n",
    "arr = np.array(lis)\n",
    "print(np.mean(arr, axis=1))\n",
    "print(np.var(arr, axis=0))\n",
    "print(np.around((np.std(arr)), decimals=11))"
   ]
  },
  {
   "cell_type": "code",
   "execution_count": 4,
   "metadata": {},
   "outputs": [
    {
     "name": "stdin",
     "output_type": "stream",
     "text": [
      " 2\n",
      " 1 2\n",
      " 3 4\n",
      " 1 2\n",
      " 3 4\n"
     ]
    },
    {
     "name": "stdout",
     "output_type": "stream",
     "text": [
      "[[ 7 10]\n",
      " [15 22]]\n"
     ]
    }
   ],
   "source": [
    "#Dot and Cross\n",
    "import numpy as np\n",
    "n = int(input())\n",
    "A = []\n",
    "for _ in range(n):\n",
    "    A_r = list(map(int, input().split()))\n",
    "    A.append(A_r)\n",
    "B = []\n",
    "for _ in range(n):\n",
    "    B_r = list(map(int, input().split()))\n",
    "    B.append(B_r)\n",
    "print(np.dot(np.array(A), np.array(B)))"
   ]
  },
  {
   "cell_type": "code",
   "execution_count": 1,
   "metadata": {},
   "outputs": [
    {
     "name": "stdin",
     "output_type": "stream",
     "text": [
      " 0 1\n",
      " 2 3\n"
     ]
    },
    {
     "name": "stdout",
     "output_type": "stream",
     "text": [
      "3\n",
      "[[0 0]\n",
      " [2 3]]\n"
     ]
    }
   ],
   "source": [
    "#Inner and Outer\n",
    "import numpy as np\n",
    "A = np.array(list(map(int, input().split())))\n",
    "B = np.array(list(map(int, input().split())))\n",
    "\n",
    "print(np.inner(A, B))\n",
    "print(np.outer(A, B))"
   ]
  },
  {
   "cell_type": "code",
   "execution_count": 2,
   "metadata": {},
   "outputs": [
    {
     "name": "stdin",
     "output_type": "stream",
     "text": [
      " 1 .1 2 3\n",
      " 0\n"
     ]
    },
    {
     "name": "stdout",
     "output_type": "stream",
     "text": [
      "3.0\n"
     ]
    }
   ],
   "source": [
    "#Ploynomials\n",
    "import numpy as np\n",
    "A = list(map(float, input().split()))\n",
    "n = int(input())\n",
    "print(np.polyval(A, n))\n"
   ]
  },
  {
   "cell_type": "code",
   "execution_count": 3,
   "metadata": {},
   "outputs": [
    {
     "name": "stdin",
     "output_type": "stream",
     "text": [
      " 2\n",
      " 1.1 1.1\n",
      " 1.1 1.1\n"
     ]
    },
    {
     "name": "stdout",
     "output_type": "stream",
     "text": [
      "0.0\n"
     ]
    }
   ],
   "source": [
    "#Linear Algebra\n",
    "import numpy as np\n",
    "A = []\n",
    "for _ in range(int(input())):\n",
    "    A_r = list(map(float, input().split()))\n",
    "    A.append(A_r)\n",
    "print(np.around(np.linalg.det(A), decimals=2))"
   ]
  }
 ],
 "metadata": {
  "kernelspec": {
   "display_name": "Python 3",
   "language": "python",
   "name": "python3"
  },
  "language_info": {
   "codemirror_mode": {
    "name": "ipython",
    "version": 3
   },
   "file_extension": ".py",
   "mimetype": "text/x-python",
   "name": "python",
   "nbconvert_exporter": "python",
   "pygments_lexer": "ipython3",
   "version": "3.7.3"
  }
 },
 "nbformat": 4,
 "nbformat_minor": 4
}
