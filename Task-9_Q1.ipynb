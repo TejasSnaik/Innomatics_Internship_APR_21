{
 "cells": [
  {
   "cell_type": "code",
   "execution_count": 1,
   "metadata": {},
   "outputs": [],
   "source": [
    "import numpy as np\n",
    "from scipy.stats import norm\n",
    "import matplotlib.pyplot as plt"
   ]
  },
  {
   "cell_type": "code",
   "execution_count": 31,
   "metadata": {},
   "outputs": [],
   "source": [
    "def z_score(sample_mean, sample_size, pop_mean, pop_std):\n",
    "    nume = sample_mean- pop_mean\n",
    "    deno = pop_std/np.sqrt(n)\n",
    "    z = nume/ deno\n",
    "    return z"
   ]
  },
  {
   "cell_type": "markdown",
   "metadata": {},
   "source": [
    "$$Q-1$$"
   ]
  },
  {
   "cell_type": "markdown",
   "metadata": {},
   "source": [
    "$\n",
    "Step\\ 1:\\\\\n",
    "Null\\ Hypothesis(Status\\ Quo):H_o\\ =\\ 500\\\\\n",
    "Alternate\\ Hypothesis(Bold\\ claim):H_1\\ \\neq\\ 500\\\\\n",
    "(Since\\ it\\ is\\ a\\ claim\\ that\\ pista\\ house\\ is\\ not\\ supplying\\ 500grams\\ of\\ Biryani\\ per\\ packet)\\\n",
    "$"
   ]
  },
  {
   "cell_type": "markdown",
   "metadata": {},
   "source": [
    "$\n",
    "Step\\ 2:\\\\\n",
    "Collect\\ a\\ Sample\\ of\\ size\\ n\\ =\\ 10\\\\\n",
    "$\n",
    "$$\n",
    "Sample:\\ [510,\\ 390,\\ 400,\\ 500,\\ 475,\\ 525,\\ 260,\\ 420,\\ 450,\\ 440]\\\\\n",
    "$$\n",
    "$\n",
    "Calculate\\ the\\ mean(\\overline{X})\\ of\\ the\\ sample.\\\n",
    "$\n",
    "\n",
    "    \n",
    "\n"
   ]
  },
  {
   "cell_type": "code",
   "execution_count": 108,
   "metadata": {},
   "outputs": [
    {
     "name": "stdout",
     "output_type": "stream",
     "text": [
      "Mean: 465.3\n"
     ]
    }
   ],
   "source": [
    "Sample = [490, 220, 470, 500, 495, 496, 496, 498, 508, 480]\n",
    "n = 10\n",
    "mean = sum(Sample) / n \n",
    "print(\"Mean:\",mean)\n"
   ]
  },
  {
   "cell_type": "markdown",
   "metadata": {},
   "source": [
    "$\n",
    "Step\\ 3:\\\n",
    "Compute\\ Test\\ Statistics.\\\\\n",
    "Use\\ \"z-score\"\\ if\\ Standard\\ Deviation(\\sigma)\\ is\\ given\\\\\n",
    "$\n",
    "$$\n",
    "z-score\\ =\\  \\frac{\\overline{X}-\\mu_{\\overline{X}}}{\\frac{\\sigma}{\\sqrt{n}}} \\\\\n",
    "$$\n",
    "$\n",
    "Else\\ use\\ \"t-score\"\\ if\\ Standard\\ Deviation(\\sigma)\\ is\\ not\\ given\\:\\\n",
    "$\n",
    "$$\n",
    "t-score\\ =\\ \\frac{\\overline{X}-\\mu_{\\overline{X}}}{\\frac{S}{\\sqrt{n}}}\\\\\n",
    "$$\n",
    "$$\n",
    "where, S\\ =\\ Sample\\ Standard\\ Deviation\\\\\n",
    "S = \\sqrt{\\frac{\\sum_{i=0}^{n}(Obs-\\overline{X})^2}{n-1}}\\\\\n",
    "\\mu_{\\overline{X}}\\ =\\ 500\\ =\\ Population\\ mean\\\\\n",
    "$$\n"
   ]
  },
  {
   "cell_type": "code",
   "execution_count": 109,
   "metadata": {},
   "outputs": [
    {
     "name": "stdout",
     "output_type": "stream",
     "text": [
      "S.D: 86.84859110991827\n",
      "28.94953036997276\n"
     ]
    }
   ],
   "source": [
    "SD = np.sqrt(sum((x-mean) **2 for x in Sample)/(n-1))\n",
    "print(\"S.D:\", SD)\n",
    "SE = SD/ np.sqrt(n-1)\n",
    "pop_mean = 500\n",
    "print(SE)"
   ]
  },
  {
   "cell_type": "markdown",
   "metadata": {},
   "source": [
    "$Since\\ we\\ don't\\ have\\ \\sigma\\ given\\ we\\ will\\ go\\ for\\ t-score\\$\n"
   ]
  },
  {
   "cell_type": "code",
   "execution_count": 103,
   "metadata": {},
   "outputs": [
    {
     "name": "stdout",
     "output_type": "stream",
     "text": [
      "t-score: -1.2634751284446715\n"
     ]
    }
   ],
   "source": [
    "t_score = z_score(mean, n, pop_mean, SD)\n",
    "print(\"t-score:\",t_score)"
   ]
  },
  {
   "cell_type": "code",
   "execution_count": null,
   "metadata": {},
   "outputs": [],
   "source": []
  },
  {
   "cell_type": "markdown",
   "metadata": {},
   "source": [
    "$\n",
    "Step\\ 4:\\\\ \n",
    "Decide\\ the\\ value\\ of\\ significance\\ level(\\alpha)\\\\\n",
    "If\\ confidence\\ level\\ is\\ taken\\ as\\ 95\\%\\ =\\ 0.95 \\\\\n",
    "then, \\\\\n",
    "$\n",
    "$$\n",
    "1\\ -\\ \\alpha\\ =\\ 0.95\\\\\n",
    "\\alpha\\ =\\ 0.05\\\\\n",
    "$$"
   ]
  },
  {
   "cell_type": "code",
   "execution_count": 114,
   "metadata": {},
   "outputs": [],
   "source": [
    "from scipy.stats import t\n",
    "confidence_level = 0.95\n",
    "alpha = 1- confidence_level\n",
    "alpha = 0.05\n"
   ]
  },
  {
   "cell_type": "code",
   "execution_count": 115,
   "metadata": {},
   "outputs": [
    {
     "name": "stdout",
     "output_type": "stream",
     "text": [
      "2.2621571627409915\n"
     ]
    }
   ],
   "source": [
    "t_critical = t.ppf((1.0 - (alpha/2)), df = 9)\n",
    "print(t_critical)"
   ]
  },
  {
   "cell_type": "markdown",
   "metadata": {},
   "source": [
    "$\n",
    "Step\\ 5.1:\\\n",
    "    Apply\\ decision\\ rule\\\\\n",
    "    For\\ Bold\\ Claim\\ H_o\\ \\neq\\ 500\\ we\\ consider\\ 2\\ tailed\\ t-test.\\\\\n",
    "$    "
   ]
  },
  {
   "cell_type": "code",
   "execution_count": 116,
   "metadata": {},
   "outputs": [
    {
     "data": {
      "text/plain": [
       "Text(465.3, 0.0007, 'x_bar')"
      ]
     },
     "execution_count": 116,
     "metadata": {},
     "output_type": "execute_result"
    },
    {
     "data": {
      "image/png": "[encoded data removed]",
      "text/plain": [
       "<Figure size 432x288 with 1 Axes>"
      ]
     },
     "metadata": {
      "needs_background": "light"
     },
     "output_type": "display_data"
    }
   ],
   "source": [
    "mx = 600\n",
    "mn = 400\n",
    "\n",
    "#\n",
    "Mean = pop_mean\n",
    "#sampling standard deviation\n",
    "std = SD / n ** 0.5\n",
    "\n",
    "#plotting the distribution and setting x limits\n",
    "x = np.linspace(mn, mx, 100)\n",
    "y = norm.pdf(x, Mean, std)\n",
    "plt.xlim(mn, mx)\n",
    "plt.plot(x, y)\n",
    "\n",
    "t_critical_left = pop_mean + (-(t_critical) * std)\n",
    "t_critical_right = pop_mean + (t_critical * std)\n",
    "\n",
    "\n",
    "x1 = np.linspace(mn, t_critical_left, 100)\n",
    "y1 = norm.pdf(x1, Mean, std)\n",
    "plt.fill_between(x1, y1, color = \"orange\")\n",
    "\n",
    "x2 = np.linspace(t_critical_right, mx, 100)\n",
    "y2 = norm.pdf(x2, Mean, std)\n",
    "plt.fill_between(x2, y2, color=\"orange\")\n",
    "\n",
    "plt.scatter(mean, 0)\n",
    "plt.annotate(\"x_bar\", (mean, 0.0007))"
   ]
  },
  {
   "cell_type": "markdown",
   "metadata": {},
   "source": [
    "$\n",
    "Step\\ 5.2:\\ Calculate\\ p-value\\ and\\ get\\ the\\ conclusion\\\\ \n",
    "$"
   ]
  },
  {
   "cell_type": "markdown",
   "metadata": {},
   "source": [
    "$Conclusion\\ using\\ t-test\\$"
   ]
  },
  {
   "cell_type": "code",
   "execution_count": 117,
   "metadata": {},
   "outputs": [
    {
     "name": "stdout",
     "output_type": "stream",
     "text": [
      "Fail to Reject Null Hypothesis\n"
     ]
    }
   ],
   "source": [
    "if (t_score > t_critical or t_score< -(t_critical)):\n",
    "    print(\"Reject Null Hypothesis\")\n",
    "else:\n",
    "    print(\"Fail to Reject Null Hypothesis\")"
   ]
  },
  {
   "cell_type": "markdown",
   "metadata": {},
   "source": [
    "$\n",
    "Conclusion\\ using\\ p-value\\\n",
    "$"
   ]
  },
  {
   "cell_type": "code",
   "execution_count": 118,
   "metadata": {},
   "outputs": [
    {
     "name": "stdout",
     "output_type": "stream",
     "text": [
      "p-value: 0.20641847943818092\n",
      "Fail to Reject Null Hypothesis\n"
     ]
    }
   ],
   "source": [
    "p_value = 2 * (1.0 - norm.cdf(np.abs(t_score)))\n",
    "print(\"p-value:\", p_value)\n",
    "if (p_value < alpha):\n",
    "    print(\"Reject Null Hypothesis\")\n",
    "else:\n",
    "    print(\"Fail to Reject Null Hypothesis\")"
   ]
  }
 ],
 "metadata": {
  "kernelspec": {
   "display_name": "Python 3",
   "language": "python",
   "name": "python3"
  },
  "language_info": {
   "codemirror_mode": {
    "name": "ipython",
    "version": 3
   },
   "file_extension": ".py",
   "mimetype": "text/x-python",
   "name": "python",
   "nbconvert_exporter": "python",
   "pygments_lexer": "ipython3",
   "version": "3.7.3"
  }
 },
 "nbformat": 4,
 "nbformat_minor": 4
}
