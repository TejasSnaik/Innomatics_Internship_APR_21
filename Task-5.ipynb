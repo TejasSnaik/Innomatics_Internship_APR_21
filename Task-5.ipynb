{
 "cells": [
  {
   "cell_type": "code",
   "execution_count": 2,
   "metadata": {},
   "outputs": [
    {
     "name": "stdin",
     "output_type": "stream",
     "text": [
      " 4\n",
      " 4.0O0\n"
     ]
    },
    {
     "name": "stdout",
     "output_type": "stream",
     "text": [
      "False\n"
     ]
    },
    {
     "name": "stdin",
     "output_type": "stream",
     "text": [
      " -1.00\n"
     ]
    },
    {
     "name": "stdout",
     "output_type": "stream",
     "text": [
      "True\n"
     ]
    },
    {
     "name": "stdin",
     "output_type": "stream",
     "text": [
      " +4.54\n"
     ]
    },
    {
     "name": "stdout",
     "output_type": "stream",
     "text": [
      "True\n"
     ]
    },
    {
     "name": "stdin",
     "output_type": "stream",
     "text": [
      " SomeRandomStuff\n"
     ]
    },
    {
     "name": "stdout",
     "output_type": "stream",
     "text": [
      "False\n"
     ]
    }
   ],
   "source": [
    "#Detect Floating point number\n",
    "import re\n",
    "T = int(input())\n",
    "for i in range(T):\n",
    "    N = input()\n",
    "    print(bool(re.match(r\"^[-+]?[0-9]*\\.[0-9]+$\", N)))\n",
    "                            "
   ]
  },
  {
   "cell_type": "code",
   "execution_count": 1,
   "metadata": {},
   "outputs": [
    {
     "name": "stdin",
     "output_type": "stream",
     "text": [
      " 100,000,000.000\n"
     ]
    },
    {
     "name": "stdout",
     "output_type": "stream",
     "text": [
      "100\n",
      "000\n",
      "000\n",
      "000\n"
     ]
    }
   ],
   "source": [
    "#Re.split()\n",
    "regex_pattern = r\"[,.]\"\t# Do not delete 'r'.\n",
    "\n",
    "import re\n",
    "print(\"\\n\".join(re.split(regex_pattern, input())))"
   ]
  },
  {
   "cell_type": "code",
   "execution_count": 1,
   "metadata": {},
   "outputs": [
    {
     "name": "stdin",
     "output_type": "stream",
     "text": [
      " ..12345678910111213141516171820212223\n"
     ]
    },
    {
     "name": "stdout",
     "output_type": "stream",
     "text": [
      "1\n"
     ]
    }
   ],
   "source": [
    "#Group(), Groups() & Groupdict()\n",
    "import re\n",
    "S = input()\n",
    "m = re.search(r'([a-zA-Z0-9])\\1+', S.strip())\n",
    "print(m.group(1) if m else -1)\n"
   ]
  },
  {
   "cell_type": "code",
   "execution_count": 2,
   "metadata": {},
   "outputs": [
    {
     "name": "stdin",
     "output_type": "stream",
     "text": [
      " rabcdeefgyYhFjkIoomnpOeorteeeeet\n"
     ]
    },
    {
     "name": "stdout",
     "output_type": "stream",
     "text": [
      "ee\n",
      "Ioo\n",
      "Oeo\n",
      "eeeee\n"
     ]
    }
   ],
   "source": [
    "#Re.findall() & Re.finditer()\n",
    "import re\n",
    "s = '[qwrtypsdfghjklzxcvbnm]'\n",
    "a = re.findall('(?<=' + s +')([aeiou]{2,})' + s, input(), re.I)\n",
    "print('\\n'.join(a or ['-1']))"
   ]
  },
  {
   "cell_type": "code",
   "execution_count": 3,
   "metadata": {},
   "outputs": [
    {
     "name": "stdin",
     "output_type": "stream",
     "text": [
      " aaadaa\n",
      " aa\n"
     ]
    },
    {
     "name": "stdout",
     "output_type": "stream",
     "text": [
      "(0, 1)\n",
      "(1, 2)\n",
      "(4, 5)\n"
     ]
    }
   ],
   "source": [
    "#Re.start() and Re.end()\n",
    "import re\n",
    "s, k = input(), input()\n",
    "matches = list(re.finditer(r'(?={})'.format(k), s))\n",
    "if matches:\n",
    "    print('\\n'.join(str((match.start(),\n",
    "          match.start() + len(k) - 1)) for match in matches))\n",
    "else:\n",
    "    print('(-1, -1)')"
   ]
  },
  {
   "cell_type": "code",
   "execution_count": 4,
   "metadata": {},
   "outputs": [
    {
     "name": "stdin",
     "output_type": "stream",
     "text": [
      " 11\n",
      " a = 1;\n"
     ]
    },
    {
     "name": "stdout",
     "output_type": "stream",
     "text": [
      "a = 1;\n"
     ]
    },
    {
     "name": "stdin",
     "output_type": "stream",
     "text": [
      " b = input();\n"
     ]
    },
    {
     "name": "stdout",
     "output_type": "stream",
     "text": [
      "b = input();\n"
     ]
    },
    {
     "name": "stdin",
     "output_type": "stream",
     "text": [
      " if a + b > 0 && a - b < 0:\n"
     ]
    },
    {
     "name": "stdout",
     "output_type": "stream",
     "text": [
      "if a + b > 0 and a - b < 0:\n"
     ]
    },
    {
     "name": "stdin",
     "output_type": "stream",
     "text": [
      " start()\n"
     ]
    },
    {
     "name": "stdout",
     "output_type": "stream",
     "text": [
      "start()\n"
     ]
    },
    {
     "name": "stdin",
     "output_type": "stream",
     "text": [
      " elif a*b > 10 || a/b < 1:\n"
     ]
    },
    {
     "name": "stdout",
     "output_type": "stream",
     "text": [
      "elif a*b > 10 or a/b < 1:\n"
     ]
    },
    {
     "name": "stdin",
     "output_type": "stream",
     "text": [
      " stop()\n"
     ]
    },
    {
     "name": "stdout",
     "output_type": "stream",
     "text": [
      "stop()\n"
     ]
    },
    {
     "name": "stdin",
     "output_type": "stream",
     "text": [
      " print set(list(a)) | set(list(b))\n"
     ]
    },
    {
     "name": "stdout",
     "output_type": "stream",
     "text": [
      "print set(list(a)) | set(list(b))\n"
     ]
    },
    {
     "name": "stdin",
     "output_type": "stream",
     "text": [
      " #Note do not change &&& or ||| or & or |\n"
     ]
    },
    {
     "name": "stdout",
     "output_type": "stream",
     "text": [
      "#Note do not change &&& or ||| or & or |\n"
     ]
    },
    {
     "name": "stdin",
     "output_type": "stream",
     "text": [
      " #Only change those '&&' which have space on both sides.\n"
     ]
    },
    {
     "name": "stdout",
     "output_type": "stream",
     "text": [
      "#Only change those '&&' which have space on both sides.\n"
     ]
    },
    {
     "name": "stdin",
     "output_type": "stream",
     "text": [
      " #Only change those '|| which have space on both sides.\n"
     ]
    },
    {
     "name": "stdout",
     "output_type": "stream",
     "text": [
      "#Only change those '|| which have space on both sides.\n"
     ]
    },
    {
     "name": "stdin",
     "output_type": "stream",
     "text": [
      " \n"
     ]
    },
    {
     "name": "stdout",
     "output_type": "stream",
     "text": [
      "\n"
     ]
    }
   ],
   "source": [
    "#Regex Substitution\n",
    "import re\n",
    "\n",
    "for _ in range(int(input())):\n",
    "    print(re.sub(r'(?<= )(\\&\\&|\\|\\|)(?= )', (lambda m: 'and' if m.group(1) == '&&' else 'or'), input()))"
   ]
  },
  {
   "cell_type": "code",
   "execution_count": 5,
   "metadata": {},
   "outputs": [
    {
     "name": "stdin",
     "output_type": "stream",
     "text": [
      " CDXXI\n"
     ]
    },
    {
     "name": "stdout",
     "output_type": "stream",
     "text": [
      "True\n"
     ]
    }
   ],
   "source": [
    "#Validating Roman Numerals\n",
    "thous = \"(?:(M){0,3})?\"\n",
    "hund  = \"(?:(D?(C){0,3})|(CM)|(CD))?\"\n",
    "ten      = \"(?:(L?(X){0,3})|(XC)|(XL))?\"\n",
    "unit     = \"(?:(V?(I){0,3})|(IX)|(IV))?\"\n",
    "regex_pattern = r\"^\"+thous+hund+ten+unit+\"$\"\t# Do not delete 'r'.\n",
    "\n",
    "import re\n",
    "print(str(bool(re.match(regex_pattern, input()))))"
   ]
  },
  {
   "cell_type": "code",
   "execution_count": 6,
   "metadata": {},
   "outputs": [
    {
     "name": "stdin",
     "output_type": "stream",
     "text": [
      " 2\n",
      " 9587456281\n"
     ]
    },
    {
     "name": "stdout",
     "output_type": "stream",
     "text": [
      "YES\n"
     ]
    },
    {
     "name": "stdin",
     "output_type": "stream",
     "text": [
      " 1252478965\n"
     ]
    },
    {
     "name": "stdout",
     "output_type": "stream",
     "text": [
      "NO\n"
     ]
    }
   ],
   "source": [
    "#Validating phone number\n",
    "import re\n",
    "for _ in range(int(input())):\n",
    "    num = input()\n",
    "    if re.match(r\"^[789]\\d{9}$\", num):\n",
    "        print(\"YES\")   \n",
    "    else:\n",
    "        print(\"NO\")\n",
    "    "
   ]
  },
  {
   "cell_type": "code",
   "execution_count": 5,
   "metadata": {},
   "outputs": [
    {
     "name": "stdin",
     "output_type": "stream",
     "text": [
      " 2\n",
      " DEXTER <dexter@hotmail.com>\n"
     ]
    },
    {
     "name": "stdout",
     "output_type": "stream",
     "text": [
      "DEXTER <dexter@hotmail.com>\n"
     ]
    },
    {
     "name": "stdin",
     "output_type": "stream",
     "text": [
      " VIRUS <virus!@variable.:p>\n"
     ]
    }
   ],
   "source": [
    "#Validating and Parsing Email Addresses\n",
    "import re\n",
    "import email.utils\n",
    "for _ in range(int(input())):\n",
    "    name, emailid = input().split()\n",
    "    if re.match(r\"<[A-Za-z](\\w|\\.|,|-)*@[A-Za-z]*\\.[a-z]{1,3}>\", emailid):\n",
    "        print(name, emailid)11\n",
    "        "
   ]
  },
  {
   "cell_type": "code",
   "execution_count": 7,
   "metadata": {},
   "outputs": [
    {
     "name": "stdin",
     "output_type": "stream",
     "text": [
      " 11\n",
      " #BED\n",
      " {\n",
      "     color: #FfFdF8; background-color:#aef;\n"
     ]
    },
    {
     "name": "stdout",
     "output_type": "stream",
     "text": [
      "#FfFdF8\n",
      "#aef\n"
     ]
    },
    {
     "name": "stdin",
     "output_type": "stream",
     "text": [
      "     font-size: 123px;\n",
      "     background: -webkit-linear-gradient(top, #f9f9f9, #fff);\n"
     ]
    },
    {
     "name": "stdout",
     "output_type": "stream",
     "text": [
      "#f9f9f9\n",
      "#fff\n"
     ]
    },
    {
     "name": "stdin",
     "output_type": "stream",
     "text": [
      " }\n",
      " #Cab\n",
      " {\n",
      "     background-color: #ABC;\n"
     ]
    },
    {
     "name": "stdout",
     "output_type": "stream",
     "text": [
      "#ABC\n"
     ]
    },
    {
     "name": "stdin",
     "output_type": "stream",
     "text": [
      "     border: 2px dashed #fff;\n"
     ]
    },
    {
     "name": "stdout",
     "output_type": "stream",
     "text": [
      "#fff\n"
     ]
    },
    {
     "name": "stdin",
     "output_type": "stream",
     "text": [
      " }\n"
     ]
    }
   ],
   "source": [
    "#Hex color code\n",
    "import re\n",
    "for _ in range(int(input())):\n",
    "    hex = input()\n",
    "    m = re.findall(r\".(#[a-fA-F0-9]{6}|#[a-fA-F0-9]{3})\", hex)\n",
    "    for i in m:\n",
    "        print(i)"
   ]
  },
  {
   "cell_type": "code",
   "execution_count": 11,
   "metadata": {},
   "outputs": [
    {
     "name": "stdin",
     "output_type": "stream",
     "text": [
      " 2\n",
      " <html><head><title>HTML Parser - I</title></head>\n",
      " <body data-modal-target class='1'><h1>HackerRank</h1><br /></body></html>\n"
     ]
    },
    {
     "name": "stdout",
     "output_type": "stream",
     "text": [
      "Start : html\n",
      "Start : head\n",
      "Start : title\n",
      "End   : title\n",
      "End   : head\n",
      "Start : body\n",
      "-> data-modal-target > None\n",
      "-> class > 1\n",
      "Start : h1\n",
      "End   : h1\n",
      "Empty : br\n",
      "End   : body\n",
      "End   : html\n"
     ]
    }
   ],
   "source": [
    "#HTML Parser Part-1\n",
    "from html.parser import HTMLParser\n",
    "\n",
    "class MyHTMLParse(HTMLParser):\n",
    "    def handle_starttag(self, tag, attrs):\n",
    "        print(f\"Start :\", tag)\n",
    "        for kv in attrs:\n",
    "            print(f\"->2\n",
    "                  \n",
    "                  {kv[0]} > {kv[1]}\")\n",
    "            \n",
    "    def handle_endtag(self, tag):\n",
    "        print(f\"End   :\", tag)\n",
    "        \n",
    "    def handle_startendtag(self, tag, attrs):\n",
    "        print(f\"Empty :\", tag)\n",
    "        for kv in attrs:\n",
    "            print(f\"-> {kv[0]} > {kv[1]}\")\n",
    "    \n",
    "parse = MyHTMLParse()\n",
    "parse.feed(\"\".join([input().strip() for _ in range(int(input()))]))\n"
   ]
  },
  {
   "cell_type": "code",
   "execution_count": 1,
   "metadata": {},
   "outputs": [
    {
     "name": "stdin",
     "output_type": "stream",
     "text": [
      " 4\n",
      " <!--[if IE 9]>IE9-specific content\n",
      " <![endif]-->\n",
      " <div> Welcome to HackerRank</div>\n",
      " <!--[if IE 9]>IE9-specific content<![endif]-->\n"
     ]
    },
    {
     "name": "stdout",
     "output_type": "stream",
     "text": [
      ">>> Multi-line Comment\n",
      "[if IE 9]>IE9-specific content\n",
      "<![endif]\n",
      ">>> Data\n",
      " Welcome to HackerRank\n",
      ">>> Single-line Comment\n",
      "[if IE 9]>IE9-specific content<![endif]\n"
     ]
    }
   ],
   "source": [
    "#HTML Parser Part-2\n",
    "from html.parser import HTMLParser\n",
    "\n",
    "class MyHTMLParser(HTMLParser):\n",
    "    def handle_comment(self, data):\n",
    "        n = len(data.split(\"\\n\"))\n",
    "        if n > 1:\n",
    "            print(\">>> Multi-line Comment\")\n",
    "            if data.strip():\n",
    "                print(data)\n",
    "        else:\n",
    "            print(\">>> Single-line Comment\")\n",
    "            if data.strip():\n",
    "                print(data)\n",
    "    def handle_data(self, data):\n",
    "        if data.strip():   \n",
    "            print(\">>> Data\")\n",
    "            print(data)\n",
    "          \n",
    "html = \"\"       \n",
    "for i in range(int(input())):\n",
    "    html += input().rstrip()\n",
    "    html += '\\n'\n",
    "    \n",
    "parser = MyHTMLParser()\n",
    "parser.feed(html)\n",
    "parser.close()\n"
   ]
  },
  {
   "cell_type": "code",
   "execution_count": 12,
   "metadata": {},
   "outputs": [
    {
     "name": "stdin",
     "output_type": "stream",
     "text": [
      " 9\n",
      " <head>\n",
      " <title>HTML</title>\n",
      " </head>\n",
      " <object type=\"application/x-flash\"\n",
      "   data=\"your-file.swf\" \n",
      "   width=\"0\" height=\"0\">\n",
      "   <!-- <param name=\"movie\" value=\"your-file.swf\" /> -->\n",
      "   <param name=\"quality\" value=\"high\"/>\n",
      " </object>\n"
     ]
    },
    {
     "name": "stdout",
     "output_type": "stream",
     "text": [
      "head\n",
      "title\n",
      "object\n",
      "-> type > application/x-flash\n",
      "-> data > your-file.swf\n",
      "-> width > 0\n",
      "-> height > 0\n",
      "param\n",
      "-> name > quality\n",
      "-> value > high\n"
     ]
    }
   ],
   "source": [
    "#Detect HTML Tags, Attributes and Attribute Values\n",
    "from html.parser import HTMLParser\n",
    "\n",
    "\n",
    "class MyHTMLParser(HTMLParser):\n",
    "    def handle_starttag(self, tag, attrs):\n",
    "        print(tag)\n",
    "        for el in attrs:\n",
    "            print(f\"-> {el[0]} > {el[1]}\")\n",
    "    #def handle_endtag(self, tag):\n",
    "       # print(tag)\n",
    "    def handle_startendtag(self, tag, attrs):\n",
    "        print(tag)\n",
    "        for el in attrs:\n",
    "            print(f\"-> {el[0]} > {el[1]}\")\n",
    "        \n",
    "\n",
    "html = \"\"       \n",
    "for i in range(int(input())):\n",
    "    html += input().rstrip()\n",
    "    html += '\\n'\n",
    "    \n",
    "parser = MyHTMLParser()\n",
    "parser.feed(html)\n",
    "parser.close()\n",
    "\n",
    "        "
   ]
  },
  {
   "cell_type": "code",
   "execution_count": 10,
   "metadata": {},
   "outputs": [
    {
     "name": "stdin",
     "output_type": "stream",
     "text": [
      " 2\n",
      " B1CD102354\n"
     ]
    },
    {
     "name": "stdout",
     "output_type": "stream",
     "text": [
      "Invalid\n"
     ]
    },
    {
     "name": "stdin",
     "output_type": "stream",
     "text": [
      " B1CDEF2354\n"
     ]
    },
    {
     "name": "stdout",
     "output_type": "stream",
     "text": [
      "Valid\n"
     ]
    }
   ],
   "source": [
    "#validating UID\n",
    "UPPERCASE = 'ABCDEFGHIJKLMNOPQRSTUVWXYZ'\n",
    "LOWERCASE = 'abcdefghijklmnopqrstuvwxyz'\n",
    "DIGITS    = '0123456789'\n",
    "ALPHA     = UPPERCASE + LOWERCASE + DIGITS\n",
    "\n",
    "def valid(uid):\n",
    "    return (\n",
    "        two_ucase(uid)        # must contain at least 2 uppercase characters\n",
    "        and three_digits(uid) # must contain at least 3 digits\n",
    "        and only_alpha(uid)   # must contain only alphanumeric characters\n",
    "        and no_repeats(uid)   # no character should repeat\n",
    "        and ten_chars(uid)    # must be exactly 10 characters long\n",
    "    )\n",
    "\n",
    "def two_ucase(uid):\n",
    "    return sum(1 for i in uid if i in UPPERCASE) >= 2\n",
    "\n",
    "def three_digits(uid):\n",
    "    return sum(1 for i in uid if i in DIGITS) >= 3\n",
    "\n",
    "def only_alpha(uid):\n",
    "    return all(i in ALPHA for i in uid)\n",
    "\n",
    "def no_repeats(uid):\n",
    "    return len(set(uid)) == len(uid)\n",
    "\n",
    "def ten_chars(uid):\n",
    "    return len(uid) == 10\n",
    "\n",
    "\n",
    "if __name__ == '__main__':\n",
    "    t = int(input())\n",
    "    for _ in range(t):\n",
    "        print('Valid' if valid(input()) else 'Invalid')"
   ]
  },
  {
   "cell_type": "code",
   "execution_count": 8,
   "metadata": {},
   "outputs": [
    {
     "name": "stdin",
     "output_type": "stream",
     "text": [
      " 6\n",
      " 4123456789123456\n"
     ]
    },
    {
     "name": "stdout",
     "output_type": "stream",
     "text": [
      "Valid\n"
     ]
    },
    {
     "name": "stdin",
     "output_type": "stream",
     "text": [
      " 5123-4567-8912-3456\n"
     ]
    },
    {
     "name": "stdout",
     "output_type": "stream",
     "text": [
      "Valid\n"
     ]
    },
    {
     "name": "stdin",
     "output_type": "stream",
     "text": [
      " 61234-567-8912-3456\n"
     ]
    },
    {
     "name": "stdout",
     "output_type": "stream",
     "text": [
      "Invalid\n"
     ]
    },
    {
     "name": "stdin",
     "output_type": "stream",
     "text": [
      " 4123356789123456\n"
     ]
    },
    {
     "name": "stdout",
     "output_type": "stream",
     "text": [
      "Valid\n"
     ]
    },
    {
     "name": "stdin",
     "output_type": "stream",
     "text": [
      " 5133-3367-8912-3456\n"
     ]
    },
    {
     "name": "stdout",
     "output_type": "stream",
     "text": [
      "Invalid\n"
     ]
    },
    {
     "name": "stdin",
     "output_type": "stream",
     "text": [
      " 5123 - 3567 - 8912 - 3456\n"
     ]
    },
    {
     "name": "stdout",
     "output_type": "stream",
     "text": [
      "Invalid\n"
     ]
    }
   ],
   "source": [
    "#Validating Credit Card Numbers\n",
    "import re\n",
    "\n",
    "\n",
    "for _ in range(int(input())):\n",
    "    s = input()\n",
    "\n",
    "    if re.match(r\"^[456]([\\d]{15}|[\\d]{3}(-[\\d]{4}){3})$\", s) and not re.search(r\"([\\d])\\1\\1\\1\", s.replace(\"-\", \"\")):\n",
    "        print(\"Valid\")\n",
    "    else:\n",
    "        print(\"Invalid\")"
   ]
  },
  {
   "cell_type": "code",
   "execution_count": 9,
   "metadata": {},
   "outputs": [
    {
     "name": "stdin",
     "output_type": "stream",
     "text": [
      " 110000\n"
     ]
    },
    {
     "name": "stdout",
     "output_type": "stream",
     "text": [
      "False\n"
     ]
    }
   ],
   "source": [
    "#Validating Postal Codes\n",
    "regex_integer_in_range = r\"^[1-9][0-9]{5}$\"\t# Do not delete 'r'.\n",
    "regex_alternating_repetitive_digit_pair = r\"(\\d)(?=.\\1)\"\t# Do not delete 'r'.\n",
    "\n",
    "\n",
    "import re\n",
    "P = input()\n",
    "\n",
    "print (bool(re.match(regex_integer_in_range, P)) \n",
    "and len(re.findall(regex_alternating_repetitive_digit_pair, P)) < 2)"
   ]
  },
  {
   "cell_type": "code",
   "execution_count": 2,
   "metadata": {},
   "outputs": [
    {
     "name": "stdin",
     "output_type": "stream",
     "text": [
      " 7 3\n",
      " Tsi\n",
      " h%x\n",
      " i #\n",
      " sM \n",
      " $a \n",
      " #t%\n",
      " ir!\n"
     ]
    },
    {
     "name": "stdout",
     "output_type": "stream",
     "text": [
      "This is Matrix#  %!\n"
     ]
    }
   ],
   "source": [
    "#Matrix script\n",
    "import math\n",
    "import os\n",
    "import random\n",
    "import re\n",
    "import sys\n",
    "\n",
    "\n",
    "\n",
    "\n",
    "first_multiple_input = input().rstrip().split()\n",
    "\n",
    "n = int(first_multiple_input[0])\n",
    "\n",
    "m = int(first_multiple_input[1])\n",
    "\n",
    "matrix = []\n",
    "\n",
    "for _ in range(n):\n",
    "    matrix_item = input()\n",
    "    matrix.append(matrix_item)\n",
    "\n",
    "new = ''\n",
    "for i in range(0,m):\n",
    "    for j in range(0,n):\n",
    "        new = new + matrix[j][i]\n",
    "       \n",
    "\n",
    "t1 = re.match(r'\\W*',new[::-1]).group()\n",
    "\n",
    "t1= t1[::-1]\n",
    "t2 = re.match(r'\\W*',new).group()\n",
    "s = re.sub('[^0-9a-zA-Z]+', ' ', new).rstrip().lstrip()\n",
    "k = t2 + s + t1\n",
    "print((k, t1) [s==''])"
   ]
  }
 ],
 "metadata": {
  "kernelspec": {
   "display_name": "Python 3",
   "language": "python",
   "name": "python3"
  },
  "language_info": {
   "codemirror_mode": {
    "name": "ipython",
    "version": 3
   },
   "file_extension": ".py",
   "mimetype": "text/x-python",
   "name": "python",
   "nbconvert_exporter": "python",
   "pygments_lexer": "ipython3",
   "version": "3.7.3"
  }
 },
 "nbformat": 4,
 "nbformat_minor": 4
}
