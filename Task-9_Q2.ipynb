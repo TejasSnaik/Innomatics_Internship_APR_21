{
 "cells": [
  {
   "cell_type": "code",
   "execution_count": 1,
   "metadata": {},
   "outputs": [],
   "source": [
    "import numpy as np\n",
    "from scipy.stats import norm\n",
    "import matplotlib.pyplot as plt"
   ]
  },
  {
   "cell_type": "code",
   "execution_count": 2,
   "metadata": {},
   "outputs": [],
   "source": [
    "def z_score(sample_mean, sample_size, pop_mean, pop_std):\n",
    "    nume = sample_mean- pop_mean\n",
    "    deno = pop_std/np.sqrt(n)\n",
    "    z = nume/ deno\n",
    "    return z"
   ]
  },
  {
   "cell_type": "markdown",
   "metadata": {},
   "source": [
    "$$ Q-2 $$"
   ]
  },
  {
   "cell_type": "markdown",
   "metadata": {},
   "source": [
    "$\n",
    "Step\\ 1:\\\\\n",
    "Null\\ Hypothesis(Status\\ Quo):H_o\\ \\leq\\ 4\\\\\n",
    "Alternate\\ Hypothesis(Bold\\ claim):H_1\\ >\\ 4\\\\\n",
    "$"
   ]
  },
  {
   "cell_type": "markdown",
   "metadata": {},
   "source": [
    "$\n",
    "Step\\ 2:\\\\\n",
    "Collect\\ a\\ Sample\\ of\\ size\\ n\\ =\\ 10\\\\\n",
    "$\n",
    "$$\n",
    "Sample = [4,\\ 3,\\ 5,\\ 4,\\ 5,\\ 3,\\ 5,\\ 5,\\ 4,\\ 2,\\ 4,\\ 5,\\ 5,\\ 4,\\ 4,\\ 5,\\ 4,\\ 5,\\ 4,\\ 5]\n",
    "$$\n",
    "$\n",
    "Calculate\\ the\\ mean(\\overline{X})\\ of\\ the\\ sample.\\\n",
    "$\n"
   ]
  },
  {
   "cell_type": "code",
   "execution_count": 57,
   "metadata": {},
   "outputs": [
    {
     "name": "stdout",
     "output_type": "stream",
     "text": [
      "Mean: 4.25\n"
     ]
    }
   ],
   "source": [
    " \n",
    "Sample = [4, 3, 5, 4, 5, 3, 5, 5, 4, 2, 4, 5, 5, 4, 4, 5, 4, 5, 4, 5]\n",
    "n = 20\n",
    "mean = sum(Sample)/ n\n",
    "print(\"Mean:\", mean)\n"
   ]
  },
  {
   "cell_type": "markdown",
   "metadata": {},
   "source": [
    "$\n",
    "Step\\ 3:\\\n",
    "Compute\\ Test\\ Statistics.\\\\\n",
    "Use\\ \"z-score\"\\ if\\ Standard\\ Deviation(\\sigma)\\ is\\ given\\\\\n",
    "$\n",
    "$$\n",
    "z-score\\ =\\  \\frac{\\overline{X}-\\mu_{\\overline{X}}}{\\frac{\\sigma}{\\sqrt{n}}} \\\\\n",
    "$$\n",
    "$\n",
    "Else\\ use\\ \"t-score\"\\ if\\ Standard\\ Deviation(\\sigma)\\ is\\ not\\ given\\:\\\n",
    "$\n",
    "$$\n",
    "t-score\\ =\\ \\frac{\\overline{X}-\\mu_{\\overline{X}}}{\\frac{S}{\\sqrt{n}}}\\\\\n",
    "$$\n",
    "$$\n",
    "where, S\\ =\\ Sample\\ Standard\\ Deviation\\\\\n",
    "S = \\sqrt{\\frac{\\sum_{i=0}^{n}(Obs-\\overline{X})^2}{n-1}}\\\\\n",
    "\\mu_{\\overline{X}}\\ =\\ 5\\ =\\ Population\\ mean\\\\\n",
    "$$"
   ]
  },
  {
   "cell_type": "code",
   "execution_count": 58,
   "metadata": {},
   "outputs": [
    {
     "name": "stdout",
     "output_type": "stream",
     "text": [
      "SD: 0.8506963092234007\n",
      "pop_mean: 5\n",
      "SE: 0.19516311808146478\n"
     ]
    }
   ],
   "source": [
    "SD = np.sqrt(sum((x-mean)**2 for x in Sample)/ (n-1))\n",
    "print(\"SD:\", SD)\n",
    "SE = SD / np.sqrt(n-1)\n",
    "pop_mean = 5\n",
    "print(\"pop_mean:\", pop_mean)\n",
    "print(\"SE:\", SE)"
   ]
  },
  {
   "cell_type": "markdown",
   "metadata": {},
   "source": [
    "$Since\\ we\\ don't\\ have\\ \\sigma\\ given\\ we\\ will\\ go\\ for\\ t-score\\$"
   ]
  },
  {
   "cell_type": "code",
   "execution_count": 59,
   "metadata": {},
   "outputs": [
    {
     "name": "stdout",
     "output_type": "stream",
     "text": [
      "t_score: -3.942772444036626\n"
     ]
    }
   ],
   "source": [
    "t_score = z_score(mean, n, pop_mean, SD)\n",
    "print(\"t_score:\", t_score)"
   ]
  },
  {
   "cell_type": "markdown",
   "metadata": {},
   "source": [
    "$\n",
    "Step\\ 4:\\\\ \n",
    "Decide\\ the\\ value\\ of\\ significance\\ level(\\alpha)\\\\\n",
    "If\\ confidence\\ level\\ is\\ taken\\ as\\ 95\\%\\ =\\ 0.95 \\\\\n",
    "then, \\\\\n",
    "$\n",
    "$$\n",
    "1\\ -\\ \\alpha\\ =\\ 0.95\\\\\n",
    "\\alpha\\ =\\ 0.05\\\\\n",
    "$$"
   ]
  },
  {
   "cell_type": "code",
   "execution_count": 60,
   "metadata": {},
   "outputs": [],
   "source": [
    "from scipy.stats import t\n",
    "confidence_level = 0.95\n",
    "alpha = 0.05"
   ]
  },
  {
   "cell_type": "code",
   "execution_count": 61,
   "metadata": {},
   "outputs": [
    {
     "name": "stdout",
     "output_type": "stream",
     "text": [
      "1.729132811521367\n"
     ]
    }
   ],
   "source": [
    "t_critical = t.ppf((1.0 - alpha), df= 19)\n",
    "print(t_critical)"
   ]
  },
  {
   "cell_type": "markdown",
   "metadata": {},
   "source": [
    "$\n",
    "Step\\ 5.1:\\\n",
    "    Apply\\ decision\\ rule\\\\\n",
    "    For\\ Bold\\ Claim\\ H_o\\ >\\ 4\\ we\\ consider\\ right\\ tailed\\ t-test.\\\\\n",
    "$    "
   ]
  },
  {
   "cell_type": "code",
   "execution_count": 62,
   "metadata": {},
   "outputs": [
    {
     "data": {
      "text/plain": [
       "Text(4.25, 0.1, 'x_bar')"
      ]
     },
     "execution_count": 62,
     "metadata": {},
     "output_type": "execute_result"
    },
    {
     "data": {
      "image/png": "[encoded data removed]",
      "text/plain": [
       "<Figure size 432x288 with 1 Axes>"
      ]
     },
     "metadata": {
      "needs_background": "light"
     },
     "output_type": "display_data"
    }
   ],
   "source": [
    "mn = 4\n",
    "mx = 6\n",
    "\n",
    "Mean = pop_mean\n",
    "std = SD/ n**0.5\n",
    "\n",
    "x = np.linspace(mn, mx, 100)\n",
    "y = norm.pdf(x, Mean, std)\n",
    "plt.xlim(mn, mx)\n",
    "plt.plot(x, y)\n",
    "\n",
    "t_critical_right = pop_mean + (t_critical * std)\n",
    "\n",
    "x2 = np.linspace(t_critical_right, mx, 100)\n",
    "y2 = norm.pdf(x2, Mean, std)\n",
    "plt.fill_between(x2, y2, color = \"orange\")\n",
    "\n",
    "plt.scatter(mean, 0)\n",
    "plt.annotate(\"x_bar\", (mean, 0.1))"
   ]
  },
  {
   "cell_type": "markdown",
   "metadata": {},
   "source": [
    "$\n",
    "Step\\ 5.2:\\ Calculate\\ p-value\\ and\\ get\\ the\\ conclusion\\\\ \n",
    "$"
   ]
  },
  {
   "cell_type": "markdown",
   "metadata": {},
   "source": [
    "$Conclusion\\ using\\ t-test\\$"
   ]
  },
  {
   "cell_type": "code",
   "execution_count": 63,
   "metadata": {},
   "outputs": [
    {
     "name": "stdout",
     "output_type": "stream",
     "text": [
      "Fail to Reject Null Hypothesis\n"
     ]
    }
   ],
   "source": [
    "if (t_score > t_critical):\n",
    "    print(\"Reject Null Hypothesis\")\n",
    "else:\n",
    "    print(\"Fail to Reject Null Hypothesis\")"
   ]
  },
  {
   "cell_type": "markdown",
   "metadata": {},
   "source": [
    "$Conclusion\\ using\\ p-value\\$"
   ]
  },
  {
   "cell_type": "code",
   "execution_count": 66,
   "metadata": {},
   "outputs": [
    {
     "name": "stdout",
     "output_type": "stream",
     "text": [
      "p-value: 0.9999597274646016\n",
      "Fail to reject Null Hypothesis\n"
     ]
    }
   ],
   "source": [
    "p_value = 1.0 - norm.cdf((t_score))\n",
    "print(\"p-value:\", p_value)\n",
    "if (p_value < alpha):\n",
    "    print(\"Reject Null Hypothesis\")\n",
    "else: \n",
    "    print(\"Fail to reject Null Hypothesis\")"
   ]
  },
  {
   "cell_type": "code",
   "execution_count": null,
   "metadata": {},
   "outputs": [],
   "source": []
  }
 ],
 "metadata": {
  "kernelspec": {
   "display_name": "Python 3",
   "language": "python",
   "name": "python3"
  },
  "language_info": {
   "codemirror_mode": {
    "name": "ipython",
    "version": 3
   },
   "file_extension": ".py",
   "mimetype": "text/x-python",
   "name": "python",
   "nbconvert_exporter": "python",
   "pygments_lexer": "ipython3",
   "version": "3.7.3"
  }
 },
 "nbformat": 4,
 "nbformat_minor": 4
}
